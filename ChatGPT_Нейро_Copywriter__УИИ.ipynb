{
  "cells": [
    {
      "cell_type": "markdown",
      "metadata": {
        "id": "view-in-github",
        "colab_type": "text"
      },
      "source": [
        "<a href=\"https://colab.research.google.com/github/Fredf23/AIU_resume/blob/master/ChatGPT_%D0%9D%D0%B5%D0%B9%D1%80%D0%BE_Copywriter__%D0%A3%D0%98%D0%98.ipynb\" target=\"_parent\"><img src=\"https://colab.research.google.com/assets/colab-badge.svg\" alt=\"Open In Colab\"/></a>"
      ]
    },
    {
      "cell_type": "markdown",
      "metadata": {
        "id": "mLWs9eLRC63S"
      },
      "source": [
        "# Установка"
      ]
    },
    {
      "cell_type": "code",
      "execution_count": null,
      "metadata": {
        "cellView": "form",
        "colab": {
          "base_uri": "https://localhost:8080/"
        },
        "id": "Wu61Uz2K__i6",
        "outputId": "ab994ccc-d73b-49ee-e1a5-bf8ef46d7672"
      },
      "outputs": [
        {
          "output_type": "stream",
          "name": "stdout",
          "text": [
            "Введите секретный ключ для сервиса chatGPT: ··········\n",
            "Mounted at /content/drive\n"
          ]
        }
      ],
      "source": [
        "# @title Установка пакетов\n",
        "from IPython.display import clear_output\n",
        "\n",
        "!pip install --upgrade tiktoken\n",
        "!pip install langchain openai\n",
        "!pip install faiss-cpu\n",
        "\n",
        "clear_output()\n",
        "\n",
        "import getpass\n",
        "import openai\n",
        "import os\n",
        "def get_key_ОpenAI():\n",
        "  openai.api_key = getpass.getpass(prompt='Введите секретный ключ для сервиса chatGPT: ')\n",
        "  os.environ[\"OPENAI_API_KEY\"] = openai.api_key\n",
        "\n",
        "get_key_ОpenAI()\n",
        "\n",
        "# Для работы с Google Drive\n",
        "from google.colab import drive\n",
        "drive.mount('/content/drive', force_remount=True)\n"
      ]
    },
    {
      "cell_type": "code",
      "execution_count": null,
      "metadata": {
        "id": "CVo7kzfodp-0",
        "cellView": "form"
      },
      "outputs": [],
      "source": [
        "#@title Импорт библиотек и Сервисные функции\n",
        "import gdown\n",
        "from IPython.display import clear_output\n",
        "from langchain.llms import OpenAI\n",
        "from langchain.docstore.document import Document\n",
        "import requests\n",
        "from langchain.embeddings.openai import OpenAIEmbeddings\n",
        "from langchain.vectorstores import FAISS\n",
        "from langchain.text_splitter import CharacterTextSplitter\n",
        "from langchain.text_splitter import RecursiveCharacterTextSplitter\n",
        "from langchain.prompts import PromptTemplate\n",
        "import pathlib\n",
        "import subprocess\n",
        "import tempfile\n",
        "\n",
        "import time\n",
        "import os\n",
        "import openai\n",
        "import tiktoken\n",
        "import re\n",
        "import os\n",
        "import json\n",
        "from tqdm.auto import tqdm\n",
        "import getpass\n",
        "\n",
        "\n",
        "# ----------------------------------\n",
        "MODEL_TURBO_16K = \"gpt-3.5-turbo-16k\"\n",
        "MODEL_TURBO_0613 = \"gpt-3.5-turbo-0613\"\n",
        "MODEL_GPT4 = \"gpt-4-0613\"\n",
        "# ----------------------------------\n",
        "\n",
        "clear_output()\n",
        "\n",
        "class WorkerОpenAI():\n",
        "  def __init__(self, \\\n",
        "               system_promt = \" \", \\\n",
        "               system_promt_lector = \" \", \\\n",
        "               mod = MODEL_TURBO_16K, \\\n",
        "               content_topics = None, \\\n",
        "               save_project = '/content/'):\n",
        "    self.model = mod\n",
        "    self.save_project  = save_project\n",
        "\n",
        "    if content_topics:\n",
        "      self.content_topics = self.load_txt_file(content_topics)\n",
        "\n",
        "    # системные настройки\n",
        "    self.system_promt = self.load_document_text(system_promt)\n",
        "    self.speaker_system_promt = self.load_document_text(system_promt_lector)\n",
        "\n",
        "\n",
        "  def load_document_text(self, url: str) -> str:\n",
        "      # функция для загрузки документа по ссылке из гугл док\n",
        "      match_ = re.search('/document/d/([a-zA-Z0-9-_]+)', url)\n",
        "      if match_ is None:\n",
        "          raise ValueError('Invalid Google Docs URL')\n",
        "      doc_id = match_.group(1)\n",
        "      response = requests.get(f'https://docs.google.com/document/d/{doc_id}/export?format=txt')\n",
        "      response.raise_for_status()\n",
        "      text = response.text\n",
        "      return text\n",
        "\n",
        "\n",
        "  def load_txt_file(self, file_path):\n",
        "      with open(file_path, 'r') as file_:\n",
        "          text = file_.read()\n",
        "      return text\n",
        "\n",
        "  # пример подсчета токенов\n",
        "  def num_tokens_from_messages(self, messages):\n",
        "      \"\"\"Returns the number of tokens used by a list of messages.\"\"\"\n",
        "      try:\n",
        "          encoding = tiktoken.encoding_for_model(self.model)\n",
        "      except KeyError:\n",
        "          encoding = tiktoken.get_encoding(\"cl100k_base\")\n",
        "      # if self.model == \"gpt-3.5-turbo-0301\":  # note: future models may deviate from this\n",
        "      if self.model in [\"gpt-3.5-turbo-0613\", \"gpt-3.5-turbo-16k\", \"gpt-4-0613\"]:  # note: future models may deviate from this\n",
        "          num_tokens = 0\n",
        "          for message in messages:\n",
        "              num_tokens += 4  # every message follows <im_start>{role/name}\\n{content}<im_end>\\n\n",
        "              for key, value in message.items():\n",
        "                  num_tokens += len(encoding.encode(value))\n",
        "                  if key == \"name\":  # if there's a name, the role is omitted\n",
        "                      num_tokens += -1  # role is always required and always 1 token\n",
        "          num_tokens += 2  # every reply is primed with <im_start>assistant\n",
        "          return num_tokens\n",
        "      else:\n",
        "          raise NotImplementedError(f\"\"\"num_tokens_from_messages() is not presently implemented for model {self.model}.\n",
        "  See https://github.com/openai/openai-python/blob/main/chatml.md for information on how messages are converted to tokens.\"\"\")\n",
        "\n",
        "\n",
        "  def create_embedding_faiss_db(self, doc_txt_dir=\"/content/\", \\\n",
        "                                faiss_db_dir =\"/content/\", \\\n",
        "                                start_idx = 0, \\\n",
        "                                collection_name = \" \"):\n",
        "\n",
        "    def num_tokens_from_string(string: str, encoding_name: str) -> int:\n",
        "      \"\"\"Returns the number of tokens in a text string.\"\"\"\n",
        "      encoding = tiktoken.get_encoding(encoding_name)\n",
        "      num_tokens = len(encoding.encode(string))\n",
        "      return num_tokens\n",
        "\n",
        "    # Для Копирайтера\n",
        "    self.splitter = RecursiveCharacterTextSplitter(['\\n\\n', '\\n', ' '], chunk_size=1024, chunk_overlap=300)\n",
        "    idx_file_folder = start_idx-1\n",
        "    chunkID = idx_file_folder\n",
        "\n",
        "    count_tokens = 0\n",
        "    # проходимся по всем данным\n",
        "    for _, file_ in enumerate(sorted(os.listdir(doc_txt_dir))):\n",
        "        print(\"Загружается файл: \", file_)\n",
        "        self.file_name = file_\n",
        "        idx_file_folder +=1\n",
        "        source_chunks = []\n",
        "        # разбиваем на несколько частей с помощью метода split_text\n",
        "        with open(doc_txt_dir + file_, \"r\") as f:\n",
        "          for chunk in self.splitter.split_text(f.read()):\n",
        "              chunkID += 1\n",
        "              source_chunks.append(Document(page_content=chunk, \\\n",
        "                                  metadata={'source': file_,\n",
        "                                            'chunkID': chunkID,\n",
        "                                            \"collection_name\": collection_name,\n",
        "                                            'idx_file_folder': idx_file_folder}))\n",
        "\n",
        "\n",
        "        # Создание индексов документа и СОХРАНЕНИЕ\n",
        "        # Если документ не пуст, то создать и сохранить базу индексов эмбеддингов отрезков документа\n",
        "        if len(source_chunks) > 0:\n",
        "            self.db = FAISS.from_documents(source_chunks, OpenAIEmbeddings())\n",
        "            count_token = num_tokens_from_string(' '.join([x.page_content for x in source_chunks]), \"cl100k_base\")\n",
        "            count_tokens += count_token\n",
        "            print('Количество токенов в документе :', count_token)\n",
        "            # print('ЦЕНА запроса:', 0.0004 * (count_token / 1000), ' $')\n",
        "\n",
        "            self.db.save_local(os.path.join(faiss_db_dir, collection_name, f\"{str(idx_file_folder)}_db_initial__{file_[:20]}\"))\n",
        "\n",
        "    print('\\nЦЕНА запроса создания базы индексов:', 0.0004 * (count_tokens / 1000), ' $')\n",
        "\n",
        "# ДЛЯ ОДНОГО КОНКРЕТНОГО ФАЙЛА\n",
        "  def create_embedding_one_file(self, doc_txt_dir=\"/content/\", \\\n",
        "                                file_ = \"Имя файла.txt\" , \\\n",
        "                                faiss_db_dir =\"/content/\"):\n",
        "\n",
        "    def num_tokens_from_string(string: str, encoding_name: str) -> int:\n",
        "      \"\"\"Returns the number of tokens in a text string.\"\"\"\n",
        "      encoding = tiktoken.get_encoding(encoding_name)\n",
        "      num_tokens = len(encoding.encode(string))\n",
        "      return num_tokens\n",
        "\n",
        "    # Для Копирайтера\n",
        "    self.splitter = RecursiveCharacterTextSplitter(['\\n\\n', '\\n', ' '], chunk_size=1024, chunk_overlap=0)\n",
        "    chunkID = 0\n",
        "    count_tokens = 0\n",
        "    self.file_name = file_[:-3]\n",
        "    print(\"Загружается файл: \", file_)\n",
        "    # проходимся по всем данным\n",
        "    source_chunks = []\n",
        "    # разбиваем на несколько частей с помощью метода split_text\n",
        "    with open(os.path.join(doc_txt_dir, file_), \"r\") as f:\n",
        "      for chunk in self.splitter.split_text(f.read()):\n",
        "          chunkID += 1\n",
        "          source_chunks.append(Document(page_content=chunk, \\\n",
        "                              metadata={'source': file_,\n",
        "                                        'chunkID': chunkID}))\n",
        "\n",
        "    # Создание индексов документа и СОХРАНЕНИЕ\n",
        "    # Если документ не пуст, то создать и сохранить базу индексов эмбеддингов отрезков документа\n",
        "    if len(source_chunks) > 0:\n",
        "        self.db = FAISS.from_documents(source_chunks, OpenAIEmbeddings())\n",
        "        count_token = num_tokens_from_string(' '.join([x.page_content for x in source_chunks]), \"cl100k_base\")\n",
        "        count_tokens += count_token\n",
        "        print('Количество токенов в документе :', count_token)\n",
        "        # print('ЦЕНА запроса:', 0.0004 * (count_token / 1000), ' $')\n",
        "\n",
        "        self.db.save_local(os.path.join(faiss_db_dir, f\"db_initial__{self.file_name[:35]}\"))\n",
        "\n",
        "    print('\\nЦЕНА запроса создания базы индексов:', 0.0004 * (count_tokens / 1000), ' $')\n",
        "\n",
        "\n",
        "\n",
        "\n",
        "# ЗАПРС в ChatGPT\n",
        "  def get_ChatCompletion(self, model,  # указываем модель\n",
        "                         messages,     # словарь запроса\n",
        "                         temp=0.2):    # температуру\n",
        "\n",
        "      completion = openai.ChatCompletion.create(\n",
        "        model= model,\n",
        "        messages= messages,\n",
        "        temperature= temp\n",
        "        )\n",
        "\n",
        "      print(f'{completion[\"usage\"][\"total_tokens\"]} токенов использовано всего (вопрос-ответ).')\n",
        "      print('ЦЕНА запроса с ответом :', 0.0035*(completion[\"usage\"][\"total_tokens\"]/1000), ' $')\n",
        "      print('===========================================: \\n')\n",
        "      return completion.choices[0].message.content\n",
        "\n",
        "# ЗАПРС на создание темы и подтемы по Материалам\n",
        "  def get_search_materials_topics_subtopics(self, materials, model_topics = \"gpt-3.5-turbo-16k\"):\n",
        "\n",
        "    messages = [\n",
        "        {\"role\": \"system\", \"content\": f\"{self.system_promt}\"},\n",
        "        {\"role\": \"user\", \"content\": f\"\"\"Проанализируй отрывок материала c семинара: {materials}.\n",
        "Выдели основные темы.\n",
        "Дай компактный, сжатый, обобщенный список тем и подтем.\n",
        "Темы Необходимо оформить _#, а подтемы оформить ##_.\n",
        "Используй только такой пример, ничего не добавляй лишнего.\n",
        "Пример составления списка:\n",
        "_#...\n",
        "##_...\n",
        "_#...\n",
        "##_...\n",
        "        \"\"\"}\n",
        "        ]\n",
        "\n",
        "    # example token count from the function defined above\n",
        "    # print(f\"{self.num_tokens_from_messages(messages=messages)} токенов использовано на вопрос \\n\")\n",
        "    try:\n",
        "      self.content_topics += self.get_ChatCompletion(model_topics, messages)\n",
        "    except:\n",
        "      print(\"Модель в настоящее время перегружена. Попробуйте позже.\")\n",
        "\n",
        "\n",
        "# ПОИСК ТЕМЫ и ПОДТЕМЫ\n",
        "  def search_topics_subtopics(self, num_chunk = 13):\n",
        "    self.content_topics = ''\n",
        "    materials = \"\"\n",
        "    # Выбираем блоки ПОДРЯД\n",
        "    len_chunk = len(self.db.docstore._dict)\n",
        "    if len_chunk < num_chunk + 1:\n",
        "        for _, doc in tqdm(self.db.docstore._dict.items()):\n",
        "            materials += f\"{doc.page_content}\\n\")\n",
        "    else:\n",
        "        for ind, (key, doc) in tqdm(enumerate(self.db.docstore._dict.items())):\n",
        "          materials += f\"{doc.page_content}\\n\"\n",
        "          if (ind+1) % num_chunk == 0:\n",
        "            self.get_search_materials_topics_subtopics(materials)\n",
        "            materials = \"\"\n",
        "    if materials != \"\":\n",
        "        self.get_search_materials_topics_subtopics(materials)\n",
        "\n",
        "    print('Собрали список тем и подтем: ')\n",
        "    print(self.content_topics)\n",
        "\n",
        "    with open(f'{self.save_project}{self.file_name[:20]}__темы_подтемы.txt', \"w\") as f:\n",
        "      f.write(self.content_topics)\n",
        "\n",
        "\n",
        "# ОБЪЕДИНЯЕМ схожие ТЕМЫ\n",
        "  def get_merge_topics(self, model_topics = \"gpt-3.5-turbo-16k\"):\n",
        "\n",
        "    messages = [\n",
        "        {\"role\": \"system\", \"content\": f\"{self.system_promt}\"},\n",
        "        {\"role\": \"user\", \"content\": f\"\"\"Проанализируй Темы и подтемы Семинара: {self.content_topics}.\n",
        "\n",
        "Необходимо объединить похожие по смыслу темы или подтемы, записать компактно.\n",
        "При необходимости перефразировать тему или подтему. Дай корректный список.\n",
        "Темы оформи _#, а подтемы оформи ##_.\n",
        "Используй только такой пример, ничего не добавляй лишнего.\n",
        "Пример составления списка:\n",
        "_#...\n",
        "##_...\n",
        "_#...\n",
        "##_...\n",
        "\"\"\"}\n",
        "]\n",
        "    # example token count from the function defined above\n",
        "    # print(f\"{self.num_tokens_from_messages(messages=messages)} токенов использовано на вопрос \\n\")\n",
        "    try:\n",
        "      self.content_topics = self.get_ChatCompletion(model_topics, messages)\n",
        "      print('Итоговый список тем и подтем: ')\n",
        "      print(self.content_topics)\n",
        "      with open(f'{self.save_project}{self.file_name[:20]}__темы_подтемы_итог.txt', \"w\") as f:\n",
        "        f.write(self.content_topics)\n",
        "    except:\n",
        "      print(\"Модель в настоящее время перегружена. Попробуйте позже.\")\n",
        "\n",
        "# ОРГАНИЗУЕМ текст блоками\n",
        "  def organize_text(self, topic, num_chunks, model_topics):\n",
        "\n",
        "    # Выборка документов по схожести с подтемой\n",
        "    docs = self.db.similarity_search(topic, k = num_chunks)\n",
        "    message_content = '\\n'.join([doc.page_content + '\\n' for i, doc in enumerate(docs)])\n",
        "\n",
        "    messages = [\n",
        "        {\"role\": \"system\", \"content\": f\"{self.speaker_system_promt}\"},\n",
        "        {\"role\": \"user\", \"content\": f\"\"\"Вот отрывки Вашей лекции:\\n{message_content}\n",
        "\n",
        "Опираясь только на информацию с Лекции, указанной выше, расскажите подробнее по Теме: {topic}.\n",
        "\"\"\"}\n",
        "      ]\n",
        "\n",
        "    # example token count from the function defined above\n",
        "    # print('\\n ===========================================: ')\n",
        "    # print(f\"{self.num_tokens_from_messages(messages=messages)} токенов использовано на вопрос \\n\")\n",
        "    try:\n",
        "      self.final_text += self.get_ChatCompletion(model_topics, messages)\n",
        "    except:\n",
        "      print(\"Модель в настоящее время перегружена. Попробуйте позже.\")\n",
        "\n",
        "# ОРГАНИЗУЕМ ИТОГОВЫЙ ТЕКСТ\n",
        "  def organize_final_text(self, num_chunks = 3,\n",
        "                          model_topics = \"gpt-3.5-turbo-16k\",\n",
        "                          name = None,\n",
        "                          db_path = None):\n",
        "    if name:\n",
        "      self.file_name = name\n",
        "\n",
        "    if db_path:\n",
        "      self.db = FAISS.load_local(db_path, OpenAIEmbeddings())\n",
        "\n",
        "    # if db_path:\n",
        "    #   for curr_base in os.listdir(db_path):\n",
        "    #       self.db = FAISS.load_local(os.path.join(db_path, curr_base), OpenAIEmbeddings())\n",
        "\n",
        "    self.final_text = \"\"\n",
        "    list_topics = self.content_topics.split('\\n')\n",
        "    # проходимся по списку тем и подтем\n",
        "    for ind, topic in tqdm(enumerate(list_topics)):\n",
        "        if ind%5 == 0:\n",
        "          with open(f'{self.save_project}{self.file_name[:20]}__loop{ind}.txt', \"w\") as f:\n",
        "              f.write(self.final_text)\n",
        "        # тему просто записываем в итоговый текст\n",
        "        if (\"_#\" in topic) and not(\"_#\" in list_topics[ind+1]):\n",
        "          self.final_text += f'\\n{topic}\\n'\n",
        "        # подтему передаем в ChatGPT\n",
        "        else:\n",
        "          self.final_text += f'\\n{topic}\\n'\n",
        "          self.organize_text(topic, num_chunks, model_topics)\n",
        "\n",
        "    with open(f'{self.save_project}{self.file_name[:20]}__final_text.txt', \"w\") as f:\n",
        "      f.write(self.final_text)\n",
        "    print(\"\\nСоздали финальный документ для Базы Знаний (final_text)\")\n",
        "\n",
        "\n",
        "\n",
        "\n",
        "\n",
        "clear_output()\n",
        "\n",
        "\n",
        "\n"
      ]
    },
    {
      "cell_type": "code",
      "source": [
        "#@title сервисные\n",
        "# ----------------------------------\n",
        "MODEL_TURBO_16K = \"gpt-3.5-turbo-16k\"\n",
        "MODEL_TURBO_0613 = \"gpt-3.5-turbo-0613\"\n",
        "MODEL_GPT4 = \"gpt-4-0613\"\n",
        "# ----------------------------------\n",
        "clear_output()\n",
        "\n",
        "class ServiceFunctions():\n",
        "  @staticmethod\n",
        "  def load_google_document_text(url: str) -> str:\n",
        "      # функция для загрузки документа по ссылке из гугл док\n",
        "      match_ = re.search('/document/d/([a-zA-Z0-9-_]+)', url)\n",
        "      if match_ is None:\n",
        "          raise ValueError('Invalid Google Docs URL')\n",
        "      doc_id = match_.group(1)\n",
        "      response = requests.get(f'https://docs.google.com/document/d/{doc_id}/export?format=txt')\n",
        "      response.raise_for_status()\n",
        "      text = response.text\n",
        "      return text\n",
        "\n",
        "  @staticmethod\n",
        "  def load_txt_file(file_path):\n",
        "      with open(file_path, 'r') as file_:\n",
        "          text = file_.read()\n",
        "      return text\n",
        "\n",
        "\n",
        "  # пример подсчета токенов\n",
        "  @staticmethod\n",
        "  def num_tokens_from_messages(messages, model):\n",
        "      \"\"\"Returns the number of tokens used by a list of messages.\"\"\"\n",
        "      try:\n",
        "          encoding = tiktoken.encoding_for_model(model)\n",
        "      except KeyError:\n",
        "          encoding = tiktoken.get_encoding(\"cl100k_base\")\n",
        "      # if self.model == \"gpt-3.5-turbo-0301\":  # note: future models may deviate from this\n",
        "      if model in [\"gpt-3.5-turbo-0613\", \"gpt-3.5-turbo-16k\", \"gpt-4-0613\"]:  # note: future models may deviate from this\n",
        "          num_tokens = 0\n",
        "          for message in messages:\n",
        "              num_tokens += 4  # every message follows <im_start>{role/name}\\n{content}<im_end>\\n\n",
        "              for key, value in message.items():\n",
        "                  num_tokens += len(encoding.encode(value))\n",
        "                  if key == \"name\":  # if there's a name, the role is omitted\n",
        "                      num_tokens += -1  # role is always required and always 1 token\n",
        "          num_tokens += 2  # every reply is primed with <im_start>assistant\n",
        "          return num_tokens\n",
        "      else:\n",
        "          raise NotImplementedError(f\"\"\"num_tokens_from_messages() is not presently implemented for model {model}.\n",
        "          See https://github.com/openai/openai-python/blob/main/chatml.md for information on how messages are converted to tokens.\"\"\")\n",
        "\n",
        "  @staticmethod\n",
        "  def num_tokens_from_string(string: str, encoding_name: str) -> int:\n",
        "    \"\"\"Returns the number of tokens in a text string.\"\"\"\n",
        "    encoding = tiktoken.get_encoding(encoding_name)\n",
        "    num_tokens = len(encoding.encode(string))\n",
        "    return num_tokens\n",
        "\n",
        "\n",
        "# ЗАПРОС в ChatGPT\n",
        "  @staticmethod\n",
        "  def get_ChatCompletion(model,    # указываем модель\n",
        "                         messages,     # словарь запроса\n",
        "                         temp=0.2):    # температуру\n",
        "\n",
        "      completion = openai.ChatCompletion.create(\n",
        "        model= model,\n",
        "        messages= messages,\n",
        "        temperature= temp\n",
        "        )\n",
        "      # print(f'{completion[\"usage\"][\"total_tokens\"]} токенов использовано всего (вопрос-ответ).')\n",
        "      # print('ЦЕНА запроса с ответом :', 0.0015*(completion[\"usage\"][\"total_tokens\"]/1000), ' $')\n",
        "      # print('===========================================: \\n')\n",
        "      return completion.choices[0].message.content\n"
      ],
      "metadata": {
        "cellView": "form",
        "id": "h0qFoSYNidqb"
      },
      "execution_count": null,
      "outputs": []
    },
    {
      "cell_type": "markdown",
      "metadata": {
        "id": "LEB6lfh3vRYc"
      },
      "source": [
        "# Copywriter. Нейро-Копийтер для MarkdownHeaderTextSplitter"
      ]
    },
    {
      "cell_type": "code",
      "execution_count": null,
      "metadata": {
        "colab": {
          "base_uri": "https://localhost:8080/"
        },
        "id": "KYNb1d6q4hWX",
        "outputId": "087f6e05-7b65-452f-c89d-19417d254f3c"
      },
      "outputs": [
        {
          "output_type": "stream",
          "name": "stdout",
          "text": [
            "Загружается файл:  meeting_bear.txt\n",
            "Количество токенов в документе : 3796\n",
            "\n",
            "ЦЕНА запроса создания базы индексов: 0.0015184  $\n"
          ]
        }
      ],
      "source": [
        "#@title Создаем объект для работы Copywriter\n",
        "projects_dir = '/content/drive/MyDrive/Colab Notebooks/_Projects_ChatGPT/Нейро_Copywriter/УИИ/'\n",
        "\n",
        "Promt_copywriter = \"https://docs.google.com/document/d/1Pdmys-RHFa7c_teMv8AJkgOfFhK0sHij285CycfKGvs/edit?usp=sharing\"\n",
        "Promt_lector = \"https://docs.google.com/document/d/1HYA19tp2BP08IL5ltHYjssEen70rIS-jy44E6hmt-Jo/edit?usp=sharing\"\n",
        "\n",
        "# если темы созданы\n",
        "# topics_final = \"/content/drive/MyDrive/Colab Notebooks/_Projects_ChatGPT/Нейро_Copywriter/УИИ/___.txt\"\n",
        "# # Создаем объект для дообучения chatGPT\n",
        "curator = WorkerОpenAI(system_promt = Promt_copywriter, # системный промт\n",
        "                       system_promt_lector = Promt_lector, # промт Лектора\n",
        "                      #  content_topics = topics_final,\n",
        "                       save_project = projects_dir)     # путь для сохранения готовых файлов\n",
        "\n",
        "# Формируем базу по файлу txt\n",
        "# # путь к материалам\n",
        "doc_txt_dir = projects_dir + 'BASE/'\n",
        "file_name = 'meeting_bear.txt'\n",
        "\n",
        "# curator.create_embedding_faiss_db(doc_txt_dir = doc_txt_dir,   # путь к материалам\n",
        "#                                 faiss_db_dir = db_initial,     # путь для сохранения исходной базы\n",
        "#                                 start_idx = 0,                 # номер документа в базе\n",
        "#                                 collection_name = 'УИИ_db_initial')  # наименование коллекции\n",
        "\n",
        "\n",
        "curator.create_embedding_one_file(doc_txt_dir = doc_txt_dir,   # путь к материалам\n",
        "                                  file_ = file_name,            # какой файл берем\n",
        "                                  faiss_db_dir = projects_dir)     # путь для сохранения исходной базы"
      ]
    },
    {
      "cell_type": "code",
      "execution_count": null,
      "metadata": {
        "colab": {
          "base_uri": "https://localhost:8080/"
        },
        "id": "sGRXeHMLCfpI",
        "outputId": "1852f1b5-277f-4a58-c7c2-3820a43a5f51"
      },
      "outputs": [
        {
          "output_type": "stream",
          "name": "stdout",
          "text": [
            "Текст разбит на чанки. Всего: 11 шт.\n",
            "\n"
          ]
        }
      ],
      "source": [
        "# Смотрим созданные чанки\n",
        "print(f\"Текст разбит на чанки. Всего: {len(curator.db.docstore._dict.values())} шт.\\n\")\n",
        "# curator.db.docstore._dict.values()"
      ]
    },
    {
      "cell_type": "code",
      "execution_count": null,
      "metadata": {
        "colab": {
          "base_uri": "https://localhost:8080/",
          "height": 483,
          "referenced_widgets": [
            "35240da1f786460fb4c4f1e63f310188",
            "8e1add4f09964803996b5f7d5833242f",
            "a71835b9150043589d626dac9c32598f",
            "7ba045327a364c439d0299adec67c7ef",
            "fe9535d2094f47a9a0caabb16fa89cbd",
            "c9cfb192eb634f2ebf09aed15cc0439c",
            "db66555ea44b4c91ab65a00b1d9b79cd",
            "133f192b8add4b39bc68fd1973830572",
            "d02aa0ba731d4663a78e03983ac2626c",
            "ef3cc4d72eb845b6b6ec1ad4d2781b79",
            "e5a4a07effc5404d80f750eac640a504"
          ]
        },
        "id": "3TLVJMHbJXPK",
        "outputId": "b9397906-eeb8-4058-c6a4-45f7e014d547"
      },
      "outputs": [
        {
          "output_type": "display_data",
          "data": {
            "text/plain": [
              "  0%|          | 0/11 [00:00<?, ?it/s]"
            ],
            "application/vnd.jupyter.widget-view+json": {
              "version_major": 2,
              "version_minor": 0,
              "model_id": "35240da1f786460fb4c4f1e63f310188"
            }
          },
          "metadata": {}
        },
        {
          "output_type": "stream",
          "name": "stdout",
          "text": [
            "4446 токенов использовано всего (вопрос-ответ).\n",
            "ЦЕНА запроса с ответом : 0.015561  $\n",
            "===========================================: \n",
            "\n",
            "Собрали список тем и подтем: \n",
            "_#Встреча с медведем в лесу\n",
            "##_Шум и громкие звуки для предотвращения встречи с медведем\n",
            "##_Избегание мест, привлекающих медведей\n",
            "##_Использование собак для обезопасивания от медведей\n",
            "##_Избегание медвежьих троп и опасных мест\n",
            "_#Поведение медведей при встрече с человеком\n",
            "##_Оборонительное поведение медведей\n",
            "##_Любопытство и интерес медведей к людям\n",
            "##_Привыкание медведей к людям и сохранение дистанции\n",
            "##_Хищническое поведение медведей\n",
            "_#Избежание опасных ситуаций при встрече с медведем\n",
            "##_Оценка ситуации и уход незамеченным\n",
            "##_Общение с медведем и увеличение расстояния\n",
            "##_Неправильные действия при встрече с медведем\n",
            "##_Поведение при непосредственном нападении медведя\n",
            "_#Поведение при непосредственном нападении медведя\n",
            "##_Реакция на оборонительное нападение медведя\n",
            "##_Реакция на хищническое нападение медведя\n",
            "CPU times: user 88.3 ms, sys: 7.5 ms, total: 95.8 ms\n",
            "Wall time: 12 s\n"
          ]
        }
      ],
      "source": [
        "#@title Поиск темы и подтемы выборкой по 5 - 15 чанков\n",
        "\n",
        "# Подаем в цикле и просим составить список тем и подтем.\n",
        "%%time\n",
        "curator.search_topics_subtopics()"
      ]
    },
    {
      "cell_type": "code",
      "execution_count": null,
      "metadata": {
        "colab": {
          "base_uri": "https://localhost:8080/"
        },
        "id": "xbrAFSweUxC6",
        "outputId": "524ac486-74c8-4f27-dc55-e0efb1bf359f"
      },
      "outputs": [
        {
          "output_type": "stream",
          "name": "stdout",
          "text": [
            "1042 токенов использовано всего (вопрос-ответ).\n",
            "ЦЕНА запроса с ответом : 0.003647  $\n",
            "===========================================: \n",
            "\n",
            "Итоговый список тем и подтем: \n",
            "_#Встреча с медведем в лесу\n",
            "##_Шум и громкие звуки для предотвращения встречи с медведем\n",
            "##_Избегание мест, привлекающих медведей\n",
            "##_Использование собак для обезопасивания от медведей\n",
            "##_Избегание медвежьих троп и опасных мест\n",
            "_#Поведение медведей при встрече с человеком\n",
            "##_Оборонительное поведение медведей\n",
            "##_Любопытство и интерес медведей к людям\n",
            "##_Привыкание медведей к людям и сохранение дистанции\n",
            "##_Хищническое поведение медведей\n",
            "_#Избежание опасных ситуаций при встрече с медведем\n",
            "##_Оценка ситуации и уход незамеченным\n",
            "##_Общение с медведем и увеличение расстояния\n",
            "##_Неправильные действия при встрече с медведем\n",
            "##_Поведение при непосредственном нападении медведя\n",
            "_#Поведение при непосредственном нападении медведя\n",
            "##_Реакция на оборонительное нападение медведя\n",
            "##_Реакция на хищническое нападение медведя.\n",
            "CPU times: user 60.8 ms, sys: 7.75 ms, total: 68.6 ms\n",
            "Wall time: 11.2 s\n"
          ]
        }
      ],
      "source": [
        "#@title Корректируем список тем и подтем (обобщаем, убираем дубли).\n",
        "# Подаем сформированный Список тем и просим объединить похожие по смыслу темы или подтемы, записать компактно.\n",
        "# При необходимости перефразировать тему или подтему.\n",
        "%%time\n",
        "curator.get_merge_topics()"
      ]
    },
    {
      "cell_type": "markdown",
      "metadata": {
        "id": "qIm6znHAtWVL"
      },
      "source": [
        "## ОРГАНИЗУЕМ ИТОГОВЫЙ ТЕКСТ"
      ]
    },
    {
      "cell_type": "markdown",
      "metadata": {
        "id": "2fWybucTLHnm"
      },
      "source": [
        "Выборка блоков документов по схожести с подтемой. Передаем собранные отрывки с Лекции и просим рассказать подробнее, опираясь на Лекцию."
      ]
    },
    {
      "cell_type": "code",
      "source": [
        "projects_dir = '/content/drive/MyDrive/Colab Notebooks/_Projects_ChatGPT/Нейро_Copywriter/УИИ/'\n",
        "\n",
        "Promt_copywriter = \"https://docs.google.com/document/d/1Pdmys-RHFa7c_teMv8AJkgOfFhK0sHij285CycfKGvs/edit?usp=sharing\"\n",
        "Promt_lector = \"https://docs.google.com/document/d/1HYA19tp2BP08IL5ltHYjssEen70rIS-jy44E6hmt-Jo/edit?usp=sharing\"\n",
        "\n",
        "# если темы созданы\n",
        "topics_final = \"/content/drive/MyDrive/Colab Notebooks/_Projects_ChatGPT/Нейро_Copywriter/УИИ/Курс Нейро-струдники__темы_подтемы_итог.txt\"\n",
        "# # Создаем объект для дообучения chatGPT\n",
        "curator = WorkerОpenAI(system_promt = Promt_copywriter, # системный промт\n",
        "                       system_promt_lector = Promt_lector, # промт Лектора\n",
        "                       content_topics = topics_final,\n",
        "                       save_project = projects_dir)     # путь для сохранения готовых файлов\n"
      ],
      "metadata": {
        "id": "CqRs7TfFW-mV"
      },
      "execution_count": null,
      "outputs": []
    },
    {
      "cell_type": "code",
      "execution_count": null,
      "metadata": {
        "colab": {
          "base_uri": "https://localhost:8080/",
          "height": 1000,
          "referenced_widgets": [
            "e10717c3f087471d930eb9f1ff21c193",
            "639b51cc9fbf4857acfd24bb130f5899",
            "dff24bc76dd94a4e9c4a6113d5f87a5c",
            "c93769eb1bfc45668d0677b612b446a4",
            "34350eceb212423aaae729173004e9dc",
            "c3477981acd143b58b12df45c49a62f5",
            "177b3d6a81884e76ba7e81aec08cd01f",
            "797b1fca20594c69a23d5e94a01b32c3",
            "18c76a6214e544e09bbabca5086ed7dc",
            "7fa358a30b0543b9bcfa1f310c499cc9",
            "d91ff6a5681e4883bf140ef2a8c52faa"
          ]
        },
        "id": "tzRnco4xRX19",
        "outputId": "d579ddc6-f281-470e-8ac3-0ad53730e6c8"
      },
      "outputs": [
        {
          "output_type": "display_data",
          "data": {
            "text/plain": [
              "0it [00:00, ?it/s]"
            ],
            "application/vnd.jupyter.widget-view+json": {
              "version_major": 2,
              "version_minor": 0,
              "model_id": "e10717c3f087471d930eb9f1ff21c193"
            }
          },
          "metadata": {}
        },
        {
          "output_type": "stream",
          "name": "stdout",
          "text": [
            "2445 токенов использовано всего (вопрос-ответ).\n",
            "ЦЕНА запроса с ответом : 0.0085575  $\n",
            "===========================================: \n",
            "\n",
            "2178 токенов использовано всего (вопрос-ответ).\n",
            "ЦЕНА запроса с ответом : 0.007623  $\n",
            "===========================================: \n",
            "\n",
            "2449 токенов использовано всего (вопрос-ответ).\n",
            "ЦЕНА запроса с ответом : 0.0085715  $\n",
            "===========================================: \n",
            "\n",
            "2409 токенов использовано всего (вопрос-ответ).\n",
            "ЦЕНА запроса с ответом : 0.0084315  $\n",
            "===========================================: \n",
            "\n",
            "2460 токенов использовано всего (вопрос-ответ).\n",
            "ЦЕНА запроса с ответом : 0.00861  $\n",
            "===========================================: \n",
            "\n",
            "2418 токенов использовано всего (вопрос-ответ).\n",
            "ЦЕНА запроса с ответом : 0.008463  $\n",
            "===========================================: \n",
            "\n",
            "2585 токенов использовано всего (вопрос-ответ).\n",
            "ЦЕНА запроса с ответом : 0.0090475  $\n",
            "===========================================: \n",
            "\n",
            "2628 токенов использовано всего (вопрос-ответ).\n",
            "ЦЕНА запроса с ответом : 0.009198000000000001  $\n",
            "===========================================: \n",
            "\n",
            "2601 токенов использовано всего (вопрос-ответ).\n",
            "ЦЕНА запроса с ответом : 0.0091035  $\n",
            "===========================================: \n",
            "\n",
            "2009 токенов использовано всего (вопрос-ответ).\n",
            "ЦЕНА запроса с ответом : 0.0070314999999999996  $\n",
            "===========================================: \n",
            "\n",
            "2228 токенов использовано всего (вопрос-ответ).\n",
            "ЦЕНА запроса с ответом : 0.007798000000000001  $\n",
            "===========================================: \n",
            "\n",
            "2449 токенов использовано всего (вопрос-ответ).\n",
            "ЦЕНА запроса с ответом : 0.0085715  $\n",
            "===========================================: \n",
            "\n",
            "2803 токенов использовано всего (вопрос-ответ).\n",
            "ЦЕНА запроса с ответом : 0.0098105  $\n",
            "===========================================: \n",
            "\n",
            "2392 токенов использовано всего (вопрос-ответ).\n",
            "ЦЕНА запроса с ответом : 0.008372  $\n",
            "===========================================: \n",
            "\n",
            "\n",
            "Создали финальный документ для Базы Знаний (final_text)\n",
            "CPU times: user 2.42 s, sys: 268 ms, total: 2.69 s\n",
            "Wall time: 8min 3s\n"
          ]
        }
      ],
      "source": [
        "# запускаем сбору Итогового Текста\n",
        "# name_file = 'Курс Нейро-струдники_Занятие1_'\n",
        "# db_initial = '/content/drive/MyDrive/Colab Notebooks/_Projects_ChatGPT/Нейро_Copywriter/УИИ/db_initial__Курс Нейро-струдники I Занятие 1 I '\n",
        "\n",
        "# curator.organize_final_text(name = name_file,\n",
        "#                             db_path = db_initial)\n",
        "\n",
        "%%time\n",
        "curator.organize_final_text()"
      ]
    },
    {
      "cell_type": "code",
      "execution_count": null,
      "metadata": {
        "id": "iETHjZJRTnFC",
        "colab": {
          "base_uri": "https://localhost:8080/",
          "height": 226
        },
        "outputId": "ee1f8517-8ad6-4380-e0c6-70cf9f827642"
      },
      "outputs": [
        {
          "output_type": "execute_result",
          "data": {
            "text/plain": [
              "'\\n_#Встреча с медведем в лесу\\n\\n##_Шум и громкие звуки для предотвращения встречи с медведем\\nШум и громкие звуки являются одним из эффективных способов предотвращения встречи с медведем в лесу. Как было сказано в лекции, медведь редко нападает на человека, но если он будет потревожен или захвачен врасплох с добычей, то возможно возникновение конфликтной ситуации. Поэтому, чтобы свести вероятность такой встречи к минимуму, необходимо давать медведю знать о своем присутствии.\\n\\nПервым советом является шуметь в лесу. Это может быть пение, громкий разговор или привязывание колокольчика к своему рюкзаку. Цель таких действий - предупредить медведя о вашем присутствии и избежать неожиданной встречи. Шум может отпугнуть медведя и заставить его уйти в сторону. Кроме того, если вы путешествуете вместе с группой, шум и громкие звуки помогут вам не потерять друг друга и быть в курсе, где находятся остальные участники.\\n\\nВажно также избегать густых кустов, зарослей и буреломов. Это места, где медведь может скрыться и поджидать свою добычу. Поэтому, если вы двигаетесь по лесу, старайтесь выбирать открытые пространства, где будет легче заметить медведя заранее. Также следует помнить, что медведицы с медвежатами, \"шатуны\", могут быть особенно опасными, поэтому необходимо быть особенно внимательным в таких местах.\\n\\nЕще одним способом предотвращения встречи с медведем является наличие с собой собак, которые не боятся присутствия зверя и обладают злобной реакцией. Однако важно отметить, что не все собаки подходят для этой цели. Не рекомендуется использовать для охраны комнатных и декоративных собак, так как они могут быть неэффективными и даже стать добычей для медведя. Лучше всего использовать для целей охраны лаек и немецких овчарок, которые обладают сильным инстинктом защиты и могут отпугнуть медведя.\\n\\nТакже следует избегать приближения к останкам павших животных и другим естественным привадам, являющимся источником животной разложившейся пищи. Медведи, особенно бурые, могут быть привлечены запахом падали и прийти на место, где находится добыча. Потревоженный на добыче медведь может перейти в нападение, поэтому важно не привлекать его внимание к себе.\\n\\nКроме того, чтобы избежать встречи с медведем, рекомендуется не пользоваться медвежьими тропами при передвижении по лесу. Тропы, пробитые медведем, отличаются от других троп двумя параллельными цепочками ямок на расстоянии 20 см друг от друга. Если вы видите такие следы, то лучше выбрать другой путь. Также следует избегать движения по берегам рек и вдоль нерестилищ в сумерки, на рассвете и ночью, так как медведи могут быть активны в эти периоды времени.\\n\\nВ заключение, шум и громкие звуки являются важным средством предотвращения встречи с медведем в лесу. Они помогают дать знать медведю о вашем присутствии и уменьшить вероятность неожиданной встречи. Однако, необходимо помнить, что эти советы не дают абсолютных гарантий от несчастного случая при нападении зверя, поэтому важно быть внимательным и осторожным при нахождении в медвежьих местах.\\n##_Избегание мест, привлекающих медведей\\nИзбегание мест, привлекающих медведей, является одним из ключевых аспектов безопасности при нахождении в медвежьих территориях. В лекции было отмечено, что ни при каких обстоятельствах нельзя приближаться к останкам павших животных, местам нахождения мертвой рыбы и другим естественным привадам, являющимся значительным источником животной разложившейся пищи. Это особенно важно в случае добычи самого бурого медведя, так как потревоженный на добыче медведь в большинстве случаев переходит в нападение.\\n\\nКроме того, следует избегать использования медвежьих троп во время передвижения по тайге и тундре. Медвежьи тропы отличаются от других троп тем, что представляют собой две параллельные цепочки ямок на расстоянии 20 см друг от друга. Это связано с особенностями передвижения медведей и их привычкой использовать определенные маршруты. Поэтому, чтобы избежать встречи с медведем, рекомендуется выбирать другие пути.\\n\\nТакже важно избегать движения по берегам рек и вдоль нерестилищ в сумерки, на рассвете и ночью. В эти периоды времени медведи активны и могут быть более агрессивны. Берега рек и нерестилища являются местами, где медведи могут искать пищу, поэтому лучше обходить эти места стороной.\\n\\nОднако, необходимо отметить, что медведи, обитающие рядом с людьми, могут быть менее боязливыми и подпускать людей на более близкое расстояние. Однако, это не означает, что можно вторгаться в их личное пространство. Медведь, привыкший к людям, все равно соблюдает дистанцию и может стать опасным, если его потревожить.\\n\\nВажно понимать, что медведи могут быть заинтересованы в человеке как в потенциальной пище. Если медведь проявляет любопытство или проверяет человека, это не означает, что он не может стать хищником. Медведь может настойчиво приближаться или внезапно появиться, высоко подняв голову и насторожив уши. Поэтому, независимо от обстоятельств, необходимо быть осторожным и предпринимать меры предосторожности.\\n\\nВ заключение, избегание мест, привлекающих медведей, является важным аспектом безопасности. Необходимо избегать приближения к останкам животных и другим источникам пищи для медведей, избегать использования медвежьих троп, особенно в сумерки и ночью, а также избегать движения по берегам рек и нерестилищам. Не следует забывать, что медведи могут быть опасными, даже если они привыкли к присутствию людей. Поэтому всегда необходимо быть бдительным и соблюдать меры предосторожности при нахождении в медвежьих территориях.\\n##_Использование собак для обезопасивания от медведей\\nИспользование собак для обезопасивания от медведей является одним из эффективных методов предотвращения встреч с этими опасными хищниками. Однако, не все собаки подходят для этой цели, и есть определенные рекомендации по выбору породы.\\n\\nСогласно лекции, для целей охраны от медведей рекомендуется использовать лаек и немецких овчарок. Эти породы известны своей смелостью, умом и выносливостью. Они обладают сильным инстинктом защиты и готовы действовать в защиту своего хозяина. Лайки и немецкие овчарки также обладают отличным обонянием, что позволяет им обнаруживать медведей на больших расстояниях.\\n\\nОднако, важно отметить, что не все собаки подходят для охраны от медведей. Нельзя использовать для этой цели комнатных и декоративных собак, так как они не обладают необходимыми физическими и психологическими характеристиками. Такие собаки могут быть слишком маленькими или не иметь достаточной силы и мощи для противостояния медведю.\\n\\nКроме того, важно помнить, что домашние животные и их еда также могут привлекать медведей. Поэтому необходимо принять меры предосторожности и хранить еду для собак в безопасном месте, чтобы не привлекать медведей к своему дому или лагерю.\\n\\nИспользование собак для обезопасивания от медведей имеет свои преимущества. Во-первых, собаки могут предупредить о приближении медведя, так как они обладают отличным обонянием и слухом. Они могут заметить медведя на больших расстояниях и начать лаять, предупреждая своего хозяина о возможной опасности.\\n\\nВо-вторых, собаки могут отпугнуть медведя своим присутствием и агрессивным поведением. Медведь, столкнувшись с собакой, может решить, что сопротивление будет слишком опасным и отступить. Собаки могут также атаковать медведя, защищая своего хозяина, что может отвлечь медведя от нападения на человека.\\n\\nОднако, необходимо помнить, что использование собак для обезопасивания от медведей не дает абсолютных гарантий от нападения зверя. Как бы надежными и сильными ни были собаки, они все равно могут столкнуться с медведем, который будет готов к атаке. Поэтому важно соблюдать и другие рекомендации по предотвращению встреч с медведями, о которых было сказано в лекции.\\n\\nВ заключение, использование собак для обезопасивания от медведей является эффективным методом предотвращения встреч с этими опасными хищниками. Лайки и немецкие овчарки, благодаря своим физическим и психологическим характеристикам, могут быть надежными помощниками в защите от медведей. Однако, необходимо помнить, что ни один метод не дает абсолютных гарантий, поэтому важно соблюдать все рекомендации по предотвращению встреч с медведями и быть готовым к возможным ситуациям.\\n##_Избегание медвежьих троп и опасных мест\\nТема, которую я хотел бы подробнее рассмотреть, основываясь на предоставленных отрывках лекции, - это \"Избегание медвежьих троп и опасных мест\". В данной теме мы узнаем о том, как избегать встреч с медведями, предотвращать их появление вблизи населенных пунктов и как использовать собак для обезопасивания себя от нападения медведей.\\n\\nПервое, что следует отметить, это то, что медвежьи тропы отличаются от других троп в тайге и тундре. Они представляют собой две параллельные цепочки ямок на расстоянии 20 см друг от друга. Поэтому, чтобы избежать встреч с медведем, рекомендуется не использовать медвежьи тропы во время передвижения по лесным участкам. Это поможет нам избежать непредвиденных ситуаций и уменьшить риск столкновения с медведем.\\n\\nКроме того, важно избегать движения по берегам рек и вдоль нерестилищ в сумерках, на рассвете и ночью. В этих периодах времени медведи активны и могут быть более агрессивными. Поэтому, чтобы минимизировать риск встречи с медведем, рекомендуется передвигаться в дневное время или в хорошо освещенных местах.\\n\\nДругой важный аспект, который следует учесть, это предотвращение появления медведей вблизи населенных пунктов и других мест, где присутствуют люди. Нельзя создавать вокруг населенных пунктов, баз и лагерей, полевых отрядов, туристских групп, мест, где складируются пищевые отходы, такие как помойки и свалки, которые могут привлекать медведей. Даже захоронение органических остатков на значительной глубине не решит эту проблему, так как медведи обладают хорошо развитым обонянием и легко могут обнаружить и раскопать эти отходы. Поэтому рекомендуется вывозить пищевые отходы на значительное расстояние от жилья и четко обозначать места свалки знаками, чтобы предупредить местных жителей. Если невозможно организовать вывозку отходов самостоятельно, они должны быть уничтожены путем сжигания.\\n\\nТакже важно использовать собак, которые не боятся присутствия медведей и обладают злобной реакцией, для обезопасивания себя от нападения медведей. Однако не следует использовать для охраны комнатных и декоративных собак. Лучше всего использовать для целей охраны лаек и немецких овчарок. Наличие таких собак может значительно помочь в предотвращении появления медведей и обезопасить нас от их нападения.\\n\\nНаконец, важно помнить, что ни при каких обстоятельствах нельзя приближаться к останкам павших животных, местам нахождения мертвой рыбы и другим естественным привадам, которые являются значительным источником разложившейся пищи для медведей. Особенно это касается добычи самого бурого медведя. Потревоженный на добыче медведь в большинстве случаев переходит в нападение. Поэтому рекомендуется избегать таких мест и не привлекать медведей к себе.\\n\\nВ заключение, избегание медвежьих троп и опасных мест является важным аспектом безопасности в условиях, где существует риск встречи с медведем. Следуя рекомендациям, представленным в лекции, мы можем уменьшить вероятность столкновения с медведем и обезопасить себя и окружающих.\\n_#Поведение медведей при встрече с человеком\\n\\n##_Оборонительное поведение медведей\\nОборонительное поведение медведей является результатом нарушения их личных границ или ощущения угрозы. Когда медведь чувствует, что его территория или детеныши подвергаются опасности, он может проявить агрессию. Это может произойти, если вы случайно встретили медведицу с медвежатами или если медведь защищает свою еду.\\n\\nОборонительное поведение медведя может проявляться в разной степени. От легкого стресса до крайней агрессивности, например, нападения. Медведь может реагировать на нарушение своей территории или угрозу своим детенышам, а также на попытку отобрать у него пищу.\\n\\nЕсли медведь подходит близко, это может быть как из-за оборонительных целей, так и из любопытства или привычки к людям. Медведь может быть заинтересован в вашей пище и начать приближаться медленно и осторожно, насторожив уши и подняв голову.\\n\\nКогда вы оказываетесь лицом к лицу с обороняющимся медведем, это может быть страшным испытанием. В большинстве случаев медведи не решаются напасть, но иногда бывает и наоборот.\\n\\nЕсли медведь подошел слишком близко, важно не отступать. Продолжайте говорить спокойным голосом и попытайтесь увеличить расстояние между вами. В большинстве случаев медведь откажется продолжать столкновение и уйдет, если только он не агрессивен.\\n\\nНападения медведей могут быть оборонительными или хищническими. В обоих случаях ваша первая реакция должна быть одинаковой - не отступать. Если медведь обороняется, вам нужно притвориться мертвым. Если же медведь нападает на вас, постарайтесь оказать ему сопротивление.\\n\\nВажно помнить, что наличие с вами собак, которые не боятся медведей, может помочь обезопасить вас от нападения. Однако необходимо использовать только подходящих собак, таких как лайки или немецкие овчарки, а не комнатных или декоративных собак. Также стоит помнить, что домашние животные и их еда могут привлекать медведей.\\n\\nНи при каких обстоятельствах не приближайтесь к останкам павших животных или местам, где есть разложившаяся пища. Это может привлечь медведей, особенно если они находятся на добыче.\\n\\nВ заключение, оборонительное поведение медведей является естественной реакцией на угрозу или нарушение их территории. Важно знать, как правильно вести себя в таких ситуациях, чтобы минимизировать риск нападения. Необходимо помнить, что каждая встреча с медведем уникальна, и реакция медведя может зависеть от множества факторов.\\n##_Любопытство и интерес медведей к людям\\nЛюбопытство и интерес медведей к людям - это одна из встречающихся поведенческих особенностей этих животных, которая может вызывать опасность для людей, особенно если не соблюдаются определенные меры предосторожности.\\n\\nКак было сказано в лекции, медведи могут подходить близко к людям не только с оборонительными целями, но и по причинам иного характера, таким как любопытство или привыкание к присутствию людей. Они могут быть заинтересованы в пище, которую люди могут иметь с собой, и поэтому начинают медленно и осторожно приближаться, насторожив уши и подняв повыше голову.\\n\\nОднако, несмотря на то, что медведи могут проявлять интерес к людям, необходимо помнить, что они по-прежнему являются хищниками и могут стать опасными, особенно если они начинают рассматривать человека как потенциальную пищу. Хищный медведь будет сосредоточен на человеке и может приближаться настойчиво, высоко подняв голову и насторожив уши. Поэтому важно быть готовым к такой ситуации и знать, как правильно реагировать.\\n\\nОдним из способов обезопасить себя от появления медведя и его любопытства является наличие с собой собак, которые не боятся присутствия зверя и могут отпугнуть его. Однако не все собаки подходят для этой цели. Необходимо использовать собак, которые обладают злобной реакцией и способны отстоять своего хозяина. Лучше всего подходят для этой цели лайки и немецкие овчарки. Однако важно помнить, что домашние животные и их еда также могут привлекать медведей, поэтому необходимо быть осторожными.\\n\\nКроме того, необходимо избегать приближения к останкам павших животных, местам нахождения мертвой рыбы и другим естественным привадам, являющимся значительным источником животной разложившейся пищи. Это особенно важно в случае добычи самого бурого медведя, который может быть потревожен на добыче и перейти в нападение.\\n\\nТаким образом, любопытство и интерес медведей к людям являются одной из поведенческих особенностей этих животных. Они могут подходить близко к людям из любопытства или из-за привыкания к присутствию людей, а также из-за интереса к пище. Однако необходимо помнить, что медведи по-прежнему являются хищниками и могут стать опасными, особенно если они начинают рассматривать человека как потенциальную пищу. Поэтому важно соблюдать меры предосторожности, такие как наличие с собой собак, избегание приближения к определенным местам и быть готовым к такой ситуации.\\n##_Привыкание медведей к людям и сохранение дистанции\\nПривыкание медведей к людям и сохранение дистанции - это важная тема, которая требует особого внимания при встрече с этими животными. Медведи, обитающие рядом с людьми, могут привыкнуть к их присутствию и не проявлять особого беспокойства, особенно в местах, где они привыкли встречать людей. Однако, несмотря на это, медведи всегда сохраняют определенную дистанцию и вторгаться в их личное пространство может быть опасно.\\n\\nКогда медведь привыкает к людям, он может подойти ближе, чем обычно, но всегда сохраняет определенную дистанцию. Это связано с их инстинктом самосохранения и осторожностью. Медведи не знают, какие намерения у людей, поэтому они всегда будут оставаться настороже и готовы отступить или атаковать в случае угрозы.\\n\\nОднако, необходимо понимать, что привыкание медведей к людям не означает, что они становятся безопасными. Хищный медведь всегда будет заинтересован и сосредоточит внимание на человеке как на потенциальной пище. Даже если медведь изначально проявляет любопытство или проверяет человека, он может стать хищником, если не получит отпора. Медведь будет настойчиво приближаться или внезапно появиться, высоко подняв голову и насторожив уши. Поэтому необходимо быть особенно внимательным и осторожным при встрече с медведем.\\n\\nВажно отметить, что медведи нападают на людей крайне редко. Они предпочитают избегать встречи с людьми и уходить от них. Однако, в некоторых случаях, когда медведь чувствует угрозу или защищает свою территорию, он может проявить агрессию и напасть. Поэтому необходимо соблюдать определенные меры предосторожности и знать, как правильно вести себя при встрече с медведем.\\n\\nДля того чтобы избежать опасных ситуаций при встрече с медведем, необходимо соблюдать следующие рекомендации. Всякий раз, когда вы увидите медведя, остановитесь, сохраняйте спокойствие и оцените ситуацию. Если медведь не знает о вашем присутствии, вы можете уйти незамеченным, сделав это тихо, в тот момент, когда медведь не смотрит в вашу сторону. Внимательно следите за ним. Если медведь обнаружил вас, обойдите его, сделав широкий крюк, либо вернитесь назад тем же путем, которым вы пришли. Наиболее обычная ситуация - это когда медведь избегает встречи с вами, а вы и не подозреваете о его присутствии. Чем ближе вы оказались к медведю, когда он вас обнаружил, тем вероятнее у него возникнет защитная оборонительная реакция.\\n\\nВ заключение, привыкание медведей к людям и сохранение дистанции - это сложная и важная тема, которая требует особого внимания и осторожности. Медведи могут привыкнуть к присутствию людей, но всегда сохраняют определенную дистанцию и остаются настороже. Правильное поведение при встрече с медведем и соблюдение мер предосторожности помогут избежать опасных ситуаций и сохранить безопасность как для себя, так и для этих великолепных животных.\\n##_Хищническое поведение медведей\\nХищническое поведение медведей является одной из основных особенностей их поведения. Хотя медведи редко нападают на людей, встреча с хищным медведем может быть опасной и требует соответствующих знаний и навыков для безопасного взаимодействия.\\n\\nВо-первых, стоит отметить, что медведи, обитающие рядом с людьми, могут подпускать их на более близкое расстояние, особенно в местах, где они привыкли встречать людей. Однако, несмотря на это, медведь всегда сохраняет определенную дистанцию и вторгаться в его личное пространство может быть опасно.\\n\\nХищный медведь будет проявлять особый интерес к человеку как потенциальной пище. Если медведь начинает проявлять любопытство или проверять вас, это может быть признаком его хищнического поведения. В таких случаях важно уметь дать медведю отпор. Он может настойчиво приближаться к вам или появиться внезапно, высоко подняв голову и насторожив уши. Поэтому, при встрече с хищным медведем, необходимо быть готовым к агрессивному поведению и принять соответствующие меры.\\n\\nОборонительное поведение медведя обычно вызвано нарушением его границ или страхом. Например, медведица с медвежатами может реагировать агрессивно, если она внезапно встречается с человеком. Медведь воспринимает человека как угрозу себе и своим детенышам, а также может защищать свою еду. Внешние признаки оборонительного поведения могут варьироваться от легкого стресса до крайней агрессивности, вплоть до нападения.\\n\\nТакже медведь может подойти близко к человеку не только с оборонительными целями, но и из любопытства или из-за привычки к людям. Его может интересовать пища, которую человек может иметь при себе. Медведи могут ходить кругами, стараясь учуять запах, и медленно и осторожно приближаться на небольшое расстояние.\\n\\nВ случае хищнической атаки медведя, необходимо действовать агрессивно. Важно дать медведю понять, что вы будете драться, если он нападет. Чем настойчивее ведет себя медведь, тем агрессивнее должна быть ваша реакция. Повышайте голос, стучите по деревьям, используйте громкие инструменты. Однако, не следует имитировать рычание медведя или кричать пронзительно.\\n\\nВажным моментом при встрече с хищным медведем является прямой взгляд в его глаза. Это позволяет бросить ему вызов и показать свою решимость. Также можно попытаться выглядеть больше, чем вы есть на самом деле, топнув ногой и сделав шаг или два навстречу медведю. Поднятие повыше и встание на бревно или камень также может помочь создать впечатление большего размера. Если возможно, можно пригрозить медведю любым предметом, который подвернется под руку. Важно помнить, что большинство атак медведей прекращается внезапно.\\n\\nВ заключение, хищническое поведение медведей является важной темой для изучения и понимания. Знание особенностей и правил взаимодействия с хищными медведями позволяет снизить риск конфликтов и обеспечить безопасность как для людей, так и для самих медведей.\\n_#Избежание опасных ситуаций при встрече с медведем\\n\\n##_Оценка ситуации и уход незамеченным\\nОценка ситуации и уход незамеченным являются важными навыками при встрече с медведем. Как было сказано в лекции, при увидении медведя необходимо остановиться, сохранить спокойствие и оценить ситуацию. Важно понимать, что медведь может не знать о вашем присутствии, поэтому вы можете уйти незамеченным, если сделаете это тихо, в момент, когда медведь не смотрит в вашу сторону.\\n\\nПеред тем как продолжить движение, необходимо внимательно следить за медведем. Если он избегает встречи с вами, то наиболее вероятно, что вы не подозреваете о его присутствии. В таком случае, рекомендуется обойти медведя, сделав широкий крюк, либо вернуться назад тем же путем, которым вы пришли. Чем ближе вы оказались к медведю, когда он вас обнаружил, тем больше вероятность его защитной оборонительной реакции.\\n\\nОценка ситуации также включает в себя анализ окружающей обстановки. Нельзя создавать вокруг населенных пунктов, баз и лагерей, полевых отрядов, туристских групп, мест, которые могут привлечь медведей. Это включает в себя помойки, свалки, склады пищевых отбросов и другие места, где могут сконцентрироваться звери рядом с людьми. Даже захоронение органических остатков на значительной глубине не решает проблему, так как медведи с легкостью их обнаруживают и раскапывают. Поэтому рекомендуется вывозить пищевые отходы на значительное расстояние от жилья и четко обозначать место свалки знаками, предупреждая местных жителей. Если невозможно организовать вывозку своими силами или силами близлежащих поселков и организаций, пищевые отбросы должны быть уничтожены путем сжигания.\\n\\nПри оценке ситуации также важно учитывать поведение медведя. Если он подошел слишком близко, необходимо остановиться и продолжать говорить спокойным голосом. Если медведь прекратит приближаться, можно попытаться увеличить расстояние между вами. В большинстве случаев медведь откажется продолжать столкновение и уйдет, если только он не агрессивен.\\n\\nОднако, в случае непосредственного нападения медведя, поведение человека должно быть соответствующим. Нападения медведей бывают двух основных типов - оборонительные и хищнические. В обоих случаях первая реакция должна быть одинаковой - ни шагу назад! Если вам не удастся отпугнуть медведя заранее и он все-таки бросится на вас, ваша реакция на нападение должна быть двоякой. Если медведь обороняется, то рекомендуется притвориться мертвым, при этом необходимо прикрыть голову руками и не двигаться. Если же медведь нападает на вас, необходимо постараться оказать ему сопротивление, используя доступные средства, такие как палка, камень или другие предметы.\\n\\nВажно помнить, что эти рекомендации основаны на опыте и исследованиях, проведенных в области взаимодействия с медведями. Однако, каждая ситуация уникальна, и важно принимать во внимание все факторы, чтобы принять правильное решение и обезопасить себя и медведя.\\n##_Общение с медведем и увеличение расстояния\\nОбщение с медведем и увеличение расстояния - это важные аспекты, которые следует учитывать при встрече с этими животными. Медведи, обитающие рядом с людьми, могут быть привыкшими к их присутствию, но необходимо помнить, что они все равно являются дикими хищниками и требуют особого внимания и осторожности.\\n\\nКогда медведь подпускает к себе на более близкое расстояние, это не означает, что он не представляет опасности. Медведь, привыкший к людям, может соблюдать дистанцию не так строго, но всегда сохраняет свое личное пространство. Вторгаться в это пространство опасно и может вызвать агрессию у медведя.\\n\\nЕсли медведь проявляет интерес к вам или приближается, необходимо внимательно следить за его поведением. Хищный медведь будет сосредоточен на вас как на потенциальной пище, поэтому важно не выглядеть угрожающе и остановиться. Говорите с медведем уверенным тоном, чтобы успокоить его и себя. Попытайтесь дать понять медведю, что вы человек. Если медведь не может распознать вас, он может подойти ближе или встать на задние лапы, чтобы лучше рассмотреть или обнюхать. Стоящий медведь с опущенными лапами обычно проявляет любопытство и не представляет опасности.\\n\\nЕсли медведь начинает следовать за вами, необходимо остановиться и не двигаться с места. Бегство от медведя бесполезно, так как вы не сможете убежать от него. Кричать или бросать в медведя что-либо также не рекомендуется, так как это может спровоцировать его на нападение.\\n\\nДля предотвращения встреч с медведем рекомендуется избегать использования медвежьих троп и движения по берегам рек и нерестилищам в сумерках, на рассвете и ночью. Медвежьи тропы отличаются от других троп двумя параллельными цепочками ямок на расстоянии 20 см друг от друга. Эти меры предосторожности помогут уменьшить вероятность встречи с медведем.\\n\\nВажно помнить, что медведи редко нападают на людей, но необходимо всегда быть готовым к возможной встрече и знать, как правильно общаться с ними. Соблюдение этих рекомендаций поможет увеличить безопасное расстояние между вами и медведем, минимизируя риск конфликта и нападения.\\n##_Неправильные действия при встрече с медведем\\nВстреча с медведем в дикой природе может быть опасной и требует особой осторожности и знания правил поведения. Неправильные действия при встрече с медведем могут спровоцировать его на нападение и привести к серьезным последствиям. Давайте подробнее рассмотрим, какие действия следует избегать при встрече с медведем, основываясь на информации из лекции.\\n\\nПервое неправильное действие, которое нужно избегать, - это кричать и бросать в медведя что-либо. Крики и агрессивное поведение могут спровоцировать медведя на нападение. Медведи обычно избегают конфликтов и нападают только в случае угрозы или защиты своих медвежат. Поэтому важно сохранять спокойствие и не проявлять агрессию в отношении медведя.\\n\\nВторое неправильное действие - это попытка убежать от медведя. Медведи являются очень быстрыми и могут легко догнать человека. Бегство может только усилить агрессию медведя и привести к нападению. Поэтому важно оставаться на месте и не двигаться, если медведь приближается.\\n\\nТретье неправильное действие - это приближаться к останкам павших животных или другим источникам пищи для медведей. Медведи могут быть агрессивны, если они чувствуют запах пищи или видят возможность получить легкую добычу. Поэтому важно избегать таких мест и не привлекать внимание медведя к себе.\\n\\nЕще одно неправильное действие - это использование неподходящих собак для охраны от медведей. Как было сказано в лекции, для охраны от медведей лучше всего использовать собак, которые не боятся присутствия зверя и обладают злобной реакцией. Не рекомендуется использовать для этой цели комнатных или декоративных собак, так как они не смогут обеспечить должную защиту. Лучше всего использовать лаек и немецких овчарок.\\n\\nТаким образом, неправильные действия при встрече с медведем включают крики и агрессивное поведение, попытку убежать, приближение к источникам пищи для медведей и использование неподходящих собак для охраны. Важно помнить, что каждая встреча с медведем может быть уникальной и требует оценки ситуации на месте. Однако, следуя рекомендациям из лекции, можно снизить вероятность конфликта и обезопасить себя при встрече с медведем.\\n##_Поведение при непосредственном нападении медведя\\nПоведение при непосредственном нападении медведя является крайне важным и может спасти жизнь человека. В данной лекции мы рассмотрели несколько ситуаций и подходов, которые могут помочь в такой ситуации.\\n\\nПервое, что необходимо помнить, это не отступать. Если медведь подошел слишком близко, необходимо остановиться и не двигаться назад. Важно сохранять спокойствие и продолжать говорить спокойным голосом. Если медведь прекратит приближаться, можно попытаться увеличить расстояние между собой и медведем. В большинстве случаев, медведь откажется продолжать столкновение и уйдет, если только он не агрессивен.\\n\\nНападения медведей бывают двух основных типов - оборонительные и хищнические. В обоих случаях, первая реакция должна быть одинаковой - не отступать. Если медведь все-таки бросается на вас, ваша реакция на нападение должна быть двоякой. Если медведь обороняется, необходимо притвориться мертвым. Ложитесь на землю лицом вниз, согните ноги и положите руки на затылок. Не двигайтесь и не пытайтесь убежать. Если медведь нападает на вас, необходимо попытаться оказать ему сопротивление. Дайте медведю понять, что вы будете драться, если он нападет. Повысьте голос, стучите по деревьям, используйте громкие инструменты. Важно не имитировать рычание медведя и не кричать пронзительно.\\n\\nЕсли медведь движется по направлению к вам, необходимо внимательно следить за его поведением. Постарайтесь не выглядеть угрожающе и остановитесь. Говорите с медведем уверенным тоном, это может успокоить его и помочь вам успокоиться. Дайте медведю понять, что вы человек. Если медведь не может распознать, кто вы, он может подойти ближе или встать на задние лапы, чтобы лучше рассмотреть или обнюхать. Стоящий медведь с опущенными лапами обычно проявляет любопытство и не является опасным. Если медведь начинает следовать за вами, необходимо остановиться и не сходить с места.\\n\\nВажно помнить, что необходимо избегать криков и бросания предметов в медведя. Это может спровоцировать его на нападение. Также необходимо избегать попыток убежать от медведя. Человек не сможет убежать от медведя, поэтому лучшей стратегией будет оказать сопротивление или притвориться мертвым, в зависимости от типа нападения.\\n\\nВ заключение, поведение при непосредственном нападении медведя требует спокойствия, настойчивости и правильной реакции. Необходимо помнить, что каждая ситуация может быть уникальной, и важно принимать решения на основе обстановки. Однако, следуя указанным рекомендациям и стратегиям, можно повысить свои шансы на выживание при столкновении с медведем.\\n_#Поведение при непосредственном нападении медведя\\n\\n##_Реакция на оборонительное нападение медведя\\nРеакция на оборонительное нападение медведя является критически важным аспектом безопасности при встрече с этими животными. Оборонительное поведение медведя обычно возникает в ответ на нарушение его границ или угрозу его личной безопасности. В таких ситуациях медведь может проявлять различные уровни агрессии, начиная от легкого стресса и предупреждающих сигналов, и заканчивая активным нападением.\\n\\nПервое и самое важное правило при оборонительном нападении медведя - ни шагу назад! Остановитесь и продолжайте говорить спокойным голосом. Если медведь прекратит приближаться к вам, попытайтесь увеличить расстояние между вами. В большинстве случаев медведь откажется продолжать столкновение и уйдет, если только он не агрессивен.\\n\\nОднако, если медведь все-таки бросается на вас, ваша реакция на нападение должна быть двоякой, в зависимости от того, является ли нападение оборонительным или хищническим. Если медведь обороняется, вам следует притвориться мертвым. Падайте на землю и ложитесь на живот, немного раскинув ноги или свернувшись клубком. Прикройте голову, сомкнув пальцы в замок на затылке. Таким образом, вы защищаете лицо и шею, которые медведь часто пытается атаковать. Если медведь переворачивает вас на спину, продолжайте кататься по земле, пока снова не окажетесь в положении лицом вниз, чтобы защитить живот и жизненно важные органы. Если на вас надет рюкзак, это может помочь хоть как-то защитить спину и шею.\\n\\nВажно помнить, что в случае оборонительного нападения медведь атакует, чтобы отпугнуть вас и защитить себя или своих детенышей. Поэтому ваша задача - показать медведю, что вы не представляете угрозы. Не боритесь и не кричите, оставайтесь неподвижными как можно дольше. Если вы пошевелитесь, и медведь увидит или услышит вас, он может вернуться и возобновить нападение.\\n\\nОднако, если медведь нападает на вас, а не обороняется, вам следует постараться оказать ему сопротивление. В такой ситуации, вы должны использовать любые доступные средства для защиты. Например, вы можете использовать палку, камень или даже свои кулаки, чтобы ударить медведя по носу, глазам или ушам. Ваша цель - сделать медведю больно и отвлечь его внимание от вас. Однако, стоит отметить, что такая реакция может быть опасной и требует определенных навыков и знаний.\\n\\nВажно отметить, что каждая встреча с медведем является уникальной и может иметь свои особенности. Поэтому важно быть готовым к таким ситуациям и иметь достаточные знания и навыки для правильной реакции. Обучение и тренировка в области безопасности при встрече с медведями могут существенно повысить шансы на успешное разрешение конфликта и сохранение жизни.\\n\\nВ заключение, реакция на оборонительное нападение медведя требует спокойствия, решительности и знания правил безопасности. Ни шагу назад, притворитесь мертвым, оказывайте сопротивление в случае хищнического нападения - эти принципы помогут вам выжить в такой опасной ситуации. Однако, помните, что каждая встреча с медведем уникальна, и важно быть готовым к различным сценариям и иметь достаточные знания и навыки для безопасного взаимодействия с этими мощными и впечатляющими животными.\\n##_Реакция на хищническое нападение медведя.\\nРеакция на хищническое нападение медведя является крайне важным аспектом безопасности при встрече с этими животными. В случае, когда медведь нападает на вас с целью атаки, необходимо принять агрессивные меры для защиты себя.\\n\\nПервым шагом в такой ситуации является демонстрация решимости и готовности к сопротивлению. Важно дать медведю понять, что вы не собираетесь стать его легкой добычей. Повышайте голос, стучите по деревьям, используйте громкие инструменты. Это поможет показать медведю, что вы готовы драться, если он продолжит нападение.\\n\\nСмотрите медведю прямо в глаза и бросайте ему вызов. Это позволит вам выглядеть более уверенно и сильнее, чем вы есть на самом деле. Топните ногой, сделайте шаг или два навстречу медведю. Медленно поднимитесь повыше, встаньте на бревно или на камень. Пригрозите медведю любым предметом, который подвернется под руку. Важно помнить, что большинство атак медведей прекращается внезапно, поэтому ваша решимость и агрессивность могут отпугнуть медведя.\\n\\nЕсли медведь все же продолжает нападение и приближается к вам, необходимо принять меры для защиты своей жизни. В самый последний момент падайте на землю. Ложитесь на живот, немного раскинув ноги, или свернитесь клубком. Прикройте голову, сомкнув пальцы в замок на затылке. Таким образом, вы защищаете лицо и шею, которые медведи часто пытаются атаковать.\\n\\nЕсли медведь переворачивает вас на спину, продолжайте кататься по земле, пока снова не окажетесь в положении лицом вниз. Это поможет защитить живот и жизненно важные органы. Если на вас надет рюкзак, это может служить дополнительной защитой для спины и шеи.\\n\\nВажно помнить, что во время хищнического нападения медведь будет пытаться попасть в ваше лицо, поэтому необходимо максимально защитить эту часть тела. Не боритесь и не кричите, оставайтесь неподвижными как можно дольше. Если вы пошевелитесь или медведь услышит вас, он может вернуться и возобновить нападение.\\n\\nВ случае хищнического нападения медведя, ваша реакция должна быть агрессивной и настойчивой. Показывайте медведю, что вы готовы сопротивляться и драться. Важно помнить, что каждая ситуация уникальна, и реакция на нападение медведя может зависеть от его поведения и окружающих условий. Однако, соблюдение этих основных принципов поможет вам повысить свои шансы на выживание при встрече с хищным медведем.'"
            ],
            "application/vnd.google.colaboratory.intrinsic+json": {
              "type": "string"
            }
          },
          "metadata": {},
          "execution_count": 9
        }
      ],
      "source": [
        "# сформирован итоговый текст\n",
        "curator.final_text"
      ]
    },
    {
      "cell_type": "markdown",
      "metadata": {
        "id": "GOEPOxl_gQQW"
      },
      "source": [
        "# MarkdownHeaderTextSplitter"
      ]
    },
    {
      "cell_type": "code",
      "execution_count": null,
      "metadata": {
        "id": "KRqMvP1XgQQY",
        "cellView": "form"
      },
      "outputs": [],
      "source": [
        "#@title функции\n",
        "chat_manager_system = \"\"\"\n",
        "Ты программист, специалист по Нейронным сетям, Профессионал Data Science и Преподаватель в Университете Искусственного Интеллекта.\n",
        "Ты Спикер на Вебинаре.\n",
        "Тебе предоставят отрывок с Вебинара и попросят раскрыть подробнее одну из тем.\n",
        "\n",
        "Твоя цель: Опираясь только на материал с Вебинара, подробно, развернуто рассказать по интересующей теме на русском языке.\n",
        "\"\"\"\n",
        "\n",
        "def get_chatgpt_answer(topic,  db, model = MODEL_TURBO_0613):\n",
        "  # Выборка документов по схожести с вопросом\n",
        "  docs = db.similarity_search(topic, k=4)\n",
        "  message_content = re.sub(r'\\n{2}', ' ', '\\n '.join([f'\\n  ' + doc.page_content + '\\n' for i, doc in enumerate(docs)]))\n",
        "  # print('message_content :\\n ======================================== \\n', self.message_content)\n",
        "\n",
        "  messages = [\n",
        "    {\"role\": \"system\", \"content\": f\"{chat_manager_system}\"},\n",
        "    {\"role\": \"user\", \"content\": f\"\"\"Analyze step by step and give a detailed correct answer to the Student's question.\\n\n",
        "    Question:\\n{topic}\\n\\nMaterials from the Webinar:\\n{message_content}\\n\\nAnswer:\"\"\"}\n",
        "    ]\n",
        "\n",
        "  try:\n",
        "    completion = openai.ChatCompletion.create(\n",
        "    model=model,\n",
        "    messages=messages,\n",
        "    temperature=0.1\n",
        "    )\n",
        "\n",
        "    print(f'{completion[\"usage\"][\"total_tokens\"]} токенов использовано всего (вопрос-ответ).')\n",
        "    print('ЦЕНА запроса с ответом :', 0.0015*(completion[\"usage\"][\"total_tokens\"]/1000), ' $')\n",
        "    print('===========================================: \\n')\n",
        "    print('Ответ ChatGPT: ')\n",
        "    print(completion.choices[0].message.content)\n",
        "    # return completion.choices[0].message.content\n",
        "  except:\n",
        "    print(\"Модель в настоящее время перегружена. Попробуйте позже.\")\n",
        "\n",
        "def load_txt_file(file_path):\n",
        "    with open(file_path, 'r') as file_:\n",
        "        text = file_.read()\n",
        "    return text\n",
        "\n",
        "# projects_dir = '/content/drive/MyDrive/Colab Notebooks/_Projects_ChatGPT/Нейро_Copywriter/УИИ/'\n",
        "# name_file = '4поста.txt'\n",
        "# final_text_dir = projects_dir + \"BASE/\" + name_file\n",
        "\n",
        "# # Загружаем итоговый текст\n",
        "# final_text = load_txt_file(final_text_dir)\n",
        "\n",
        "doc = \"https://docs.google.com/document/d/1j0sgdWOzfm1ps2H9G70HpT44oODRimOp_0NEHuRdHQs/edit?usp=sharing\"\n",
        "name_file = '4поста.txt'\n",
        "final_text = ServiceFunctions.load_google_document_text(doc)"
      ]
    },
    {
      "cell_type": "code",
      "source": [
        "file_name = '3поста'\n",
        "\n",
        "text_splitter = RecursiveCharacterTextSplitter([\"##_\"],\n",
        "    chunk_size=1024, chunk_overlap=0\n",
        ")\n",
        "chunkID = 0\n",
        "count_tokens = 0\n",
        "source_chunks = []\n",
        "    # разбиваем на несколько частей с помощью метода split_text\n",
        "for chunk in text_splitter.split_text(final_text):\n",
        "    chunkID += 1\n",
        "    source_chunks.append(chunk)\n",
        "print(source_chunks)"
      ],
      "metadata": {
        "colab": {
          "base_uri": "https://localhost:8080/"
        },
        "id": "UZZtVZzsle4O",
        "outputId": "0ddd6b87-2916-4317-be71-4ee036c21ba4"
      },
      "execution_count": null,
      "outputs": [
        {
          "output_type": "stream",
          "name": "stdout",
          "text": [
            "['\\ufeff##_ \\r\\nПрошёл первый день Реалити!\\r\\nУ нас продолжается набор на новый поток стажировок, старт 1 февраля.\\r\\nИтак, осталось\\r\\n✔️ 4 места со скидкой по 139.900 (скидка 10 тысяч)\\r\\n✔️ 4 места на выкуп стоимости обучения\\r\\n✔️ 8 мест в группы стажировки февраля\\r\\n❗️ Если вы хотите попасть на стажировки и выкуп стоимости обучения - стоит поторопиться!\\r\\nНапоминаю наш супер-тариф!\\r\\nСостав тарифа:\\r\\n⭐️ Доступ ко всему нашему контенту (десятки курсов и сотни занятий по AI)\\r\\n⭐️ 4 проекта стажировки (12 месяцев)\\r\\n⭐️ 12 месяцев поддержки куратора\\r\\n⭐️ Помощь в реализации AI проекта\\r\\n⭐️ Гарантия трудоустройства\\r\\n \\r\\nСтоимость тарифа - 219.900р\\r\\nСтоимость тарифа по предзаказу - 149.900р\\r\\n👉 Ещё остались места по стоимости - 139.900р\\r\\nБронирует место только оплата!\\r\\nAI и IT - лучшая сфера для работы 🚀\\r\\nМы поможем вам быстро переквалифицироваться и стать разработчиком!\\r\\nОставляйте заявку на обучение 👇', '##_ \\r\\nТакс, у нас проблема!\\r\\nОбычно на Реалити всего 2-3% людей не смотрели интенсив и я могу довольно свободно рассказывать тему Реалити, а не погружаться в основы нейронок.\\r\\n❗️ Но вчера около 20-30% было совсем новичков!\\r\\nИ вот как тут рассказывать, когда часть с полного нуля, а часть уже много знает?\\r\\nВ общем, кто не проходил наш интенсив - обязательно надо посмотреть!\\r\\n👉 Это самые основы, как строятся и обучаются нейронки.\\r\\nА потом уже вам будут понятны все Реалити и остальное.\\r\\nЧтобы не ждать следующего вторника (интенсивы по вторникам), вот они все три дня записями.\\r\\nПосмотреть нужно хотя бы первый вебинар - это всего 2 часа.\\r\\n👍https://youtu.be/XvdT9sTnYYk\\r\\n👍https://youtu.be/NP9NgFSLQWE\\r\\n👍https://youtu.be/SqYK42mWC74\\r\\nИнтенсив крутейший! Его уже прошли больше 25.000 человек - это целый небольшой город.\\r\\nТакс, дальше по списку\\r\\nЕсть те, кто хочет ещё и Python понять и создание нейронок на Keras.\\r\\nУ нас для вас по предзаказу 2 занятия по Python и 1 по основам нейронок на Keras.\\r\\nПредзаказ тут, если что 👇\\r\\nhttps://neural-university.ru/special_offer?utm_source=webinar&utm_medium=18012023&utm_campaign=tg\\r\\n\\r\\n\\r\\n\\r\\n\\r\\n', '##_ \\r\\nМир AI очень сильно меняется из-за chatGPT и Auto ML\\r\\nУже на этом реалити места по точностям распределились вот так:\\r\\n⭐️ 1 место - chatGPT\\r\\n⭐️ 2 место - наш генетический алгоритм\\r\\n⭐️ 3 место - люди\\r\\n❓ Что это значит для вас? \\r\\nЧто скоро создавать нейронки станет значительно проще и надо будет не писать архитектуры с нуля, а правильно формулировать запросы к chatGPT и правильно настраивать параметры генетического алгоритма.\\r\\nТак же, как сейчас у дизайнеров, они массово и срочно учатся пользоваться Stable diffusion и промт-инжинирингу (как сформулировать точный запрос нейронке, чтобы получить красивую картинку).\\r\\nИсчезнут ли нейронщики? Да точно нет\\r\\nПросто мы будете писать не на Keras прямой код, а коммуницировать с chatGPT и генетикой.\\r\\nИ это будущее наступит уже через год максимум.\\r\\n👨\\u200d💻 Мы уже планируем готовить для вас курс по решению AI задач на chatGPT\\r\\nПотому что это будет самым передовым инструментом создания нейронок.\\r\\nВсе остальные занятия курса останутся супер важными, потому что без первого создания нейронок руками вы не будете понимать, как это вообще работает.\\r\\n👉 В общем, мир AI меняется и мы будем для вас на самой передовой волне этих изменений.\\r\\nЖдите скоро Реалити, где мы создадим всё 100% только на chatGPT.\\r\\n❗️ Ну а пока - пойдёмте учиться нейронкам!\\r\\nОсталось всего пару мест на выкуп стоимости обучения и 12 мест на стажировки 1 февраля.\\r\\nСейчас самое безумно интересное время для изучения AI.\\r\\nЭто как время появления первых компьютеров, время битв Microsoft и Apple, и время зарождения интернета.\\r\\nПройдёт 10 лет и так интересно уже не будет\\r\\nТак что сейчас идеальный момент 👇']\n"
          ]
        }
      ]
    },
    {
      "cell_type": "code",
      "source": [
        "len(source_chunks)"
      ],
      "metadata": {
        "colab": {
          "base_uri": "https://localhost:8080/"
        },
        "id": "oAToH2T1l-Yt",
        "outputId": "6d1b3b56-8730-4d43-913a-11f322f5d102"
      },
      "execution_count": null,
      "outputs": [
        {
          "output_type": "execute_result",
          "data": {
            "text/plain": [
              "3"
            ]
          },
          "metadata": {},
          "execution_count": 61
        }
      ]
    },
    {
      "cell_type": "code",
      "source": [
        "source_chunks[2]"
      ],
      "metadata": {
        "colab": {
          "base_uri": "https://localhost:8080/",
          "height": 226
        },
        "id": "EbQr8rOlmCDd",
        "outputId": "1d5823e6-8a13-4f51-c935-57d71dd152c7"
      },
      "execution_count": null,
      "outputs": [
        {
          "output_type": "execute_result",
          "data": {
            "text/plain": [
              "'##_ \\r\\nМир AI очень сильно меняется из-за chatGPT и Auto ML\\r\\nУже на этом реалити места по точностям распределились вот так:\\r\\n⭐️ 1 место - chatGPT\\r\\n⭐️ 2 место - наш генетический алгоритм\\r\\n⭐️ 3 место - люди\\r\\n❓ Что это значит для вас? \\r\\nЧто скоро создавать нейронки станет значительно проще и надо будет не писать архитектуры с нуля, а правильно формулировать запросы к chatGPT и правильно настраивать параметры генетического алгоритма.\\r\\nТак же, как сейчас у дизайнеров, они массово и срочно учатся пользоваться Stable diffusion и промт-инжинирингу (как сформулировать точный запрос нейронке, чтобы получить красивую картинку).\\r\\nИсчезнут ли нейронщики? Да точно нет\\r\\nПросто мы будете писать не на Keras прямой код, а коммуницировать с chatGPT и генетикой.\\r\\nИ это будущее наступит уже через год максимум.\\r\\n👨\\u200d💻 Мы уже планируем готовить для вас курс по решению AI задач на chatGPT\\r\\nПотому что это будет самым передовым инструментом создания нейронок.\\r\\nВсе остальные занятия курса останутся супер важными, потому что без первого создания нейронок руками вы не будете понимать, как это вообще работает.\\r\\n👉 В общем, мир AI меняется и мы будем для вас на самой передовой волне этих изменений.\\r\\nЖдите скоро Реалити, где мы создадим всё 100% только на chatGPT.\\r\\n❗️ Ну а пока - пойдёмте учиться нейронкам!\\r\\nОсталось всего пару мест на выкуп стоимости обучения и 12 мест на стажировки 1 февраля.\\r\\nСейчас самое безумно интересное время для изучения AI.\\r\\nЭто как время появления первых компьютеров, время битв Microsoft и Apple, и время зарождения интернета.\\r\\nПройдёт 10 лет и так интересно уже не будет\\r\\nТак что сейчас идеальный момент 👇'"
            ],
            "application/vnd.google.colaboratory.intrinsic+json": {
              "type": "string"
            }
          },
          "metadata": {},
          "execution_count": 62
        }
      ]
    },
    {
      "cell_type": "code",
      "execution_count": null,
      "metadata": {
        "id": "YbDRfWc_gQQY",
        "colab": {
          "base_uri": "https://localhost:8080/"
        },
        "outputId": "66177ed7-2ab9-4141-d67e-4804d2a1373b"
      },
      "outputs": [
        {
          "output_type": "execute_result",
          "data": {
            "text/plain": [
              "[Document(page_content='\\ufeff##_ Пост\\nПрошёл первый день Реалити!\\nУ нас продолжается набор на новый поток стажировок, старт 1 февраля.\\nИтак, осталось\\n✔️ 4 места со скидкой по 139.900 (скидка 10 тысяч)\\n✔️ 4 места на выкуп стоимости обучения\\n✔️ 8 мест в группы стажировки февраля\\n❗️ Если вы хотите попасть на стажировки и выкуп стоимости обучения - стоит поторопиться!\\nНапоминаю наш супер-тариф!\\nСостав тарифа:\\n⭐️ Доступ ко всему нашему контенту (десятки курсов и сотни занятий по AI)\\n⭐️ 4 проекта стажировки (12 месяцев)\\n⭐️ 12 месяцев поддержки куратора\\n⭐️ Помощь в реализации AI проекта\\n⭐️ Гарантия трудоустройства  \\nСтоимость тарифа - 219.900р\\nСтоимость тарифа по предзаказу - 149.900р\\n👉 Ещё остались места по стоимости - 139.900р\\nБронирует место только оплата!\\nAI и IT - лучшая сфера для работы 🚀\\nМы поможем вам быстро переквалифицироваться и стать разработчиком!\\nОставляйте заявку на обучение 👇', metadata={}),\n",
              " Document(page_content='Такс, у нас проблема!\\nОбычно на Реалити всего 2-3% людей не смотрели интенсив и я могу довольно свободно рассказывать тему Реалити, а не погружаться в основы нейронок.\\n❗️ Но вчера около 20-30% было совсем новичков!\\nИ вот как тут рассказывать, когда часть с полного нуля, а часть уже много знает?\\nВ общем, кто не проходил наш интенсив - обязательно надо посмотреть!\\n👉 Это самые основы, как строятся и обучаются нейронки.\\nА потом уже вам будут понятны все Реалити и остальное.\\nЧтобы не ждать следующего вторника (интенсивы по вторникам), вот они все три дня записями.\\nПосмотреть нужно хотя бы первый вебинар - это всего 2 часа.\\n👍https://youtu.be/XvdT9sTnYYk\\n👍https://youtu.be/NP9NgFSLQWE\\n👍https://youtu.be/SqYK42mWC74\\nИнтенсив крутейший! Его уже прошли больше 25.000 человек - это целый небольшой город.\\nТакс, дальше по списку\\nЕсть те, кто хочет ещё и Python понять и создание нейронок на Keras.\\nУ нас для вас по предзаказу 2 занятия по Python и 1 по основам нейронок на Keras.\\nПредзаказ тут, если что 👇\\nhttps://neural-university.ru/special_offer?utm_source=webinar&utm_medium=18012023&utm_campaign=tg  \\nМир AI очень сильно меняется из-за chatGPT и Auto ML\\nУже на этом реалити места по точностям распределились вот так:\\n⭐️ 1 место - chatGPT\\n⭐️ 2 место - наш генетический алгоритм\\n⭐️ 3 место - люди\\n❓ Что это значит для вас?\\nЧто скоро создавать нейронки станет значительно проще и надо будет не писать архитектуры с нуля, а правильно формулировать запросы к chatGPT и правильно настраивать параметры генетического алгоритма.\\nТак же, как сейчас у дизайнеров, они массово и срочно учатся пользоваться Stable diffusion и промт-инжинирингу (как сформулировать точный запрос нейронке, чтобы получить красивую картинку).\\nИсчезнут ли нейронщики? Да точно нет\\nПросто мы будете писать не на Keras прямой код, а коммуницировать с chatGPT и генетикой.\\nИ это будущее наступит уже через год максимум.\\n👨\\u200d💻 Мы уже планируем готовить для вас курс по решению AI задач на chatGPT\\nПотому что это будет самым передовым инструментом создания нейронок.\\nВсе остальные занятия курса останутся супер важными, потому что без первого создания нейронок руками вы не будете понимать, как это вообще работает.\\n👉 В общем, мир AI меняется и мы будем для вас на самой передовой волне этих изменений.\\nЖдите скоро Реалити, где мы создадим всё 100% только на chatGPT.\\n❗️ Ну а пока - пойдёмте учиться нейронкам!\\nОсталось всего пару мест на выкуп стоимости обучения и 12 мест на стажировки 1 февраля.\\nСейчас самое безумно интересное время для изучения AI.\\nЭто как время появления первых компьютеров, время битв Microsoft и Apple, и время зарождения интернета.\\nПройдёт 10 лет и так интересно уже не будет\\nТак что сейчас идеальный момент 👇', metadata={'Header 1': 'Пост'})]"
            ]
          },
          "metadata": {},
          "execution_count": 43
        }
      ],
      "source": [
        "#@title  Готовим документ MarkdownHeader по сформированному тексту\n",
        "from langchain.text_splitter import MarkdownHeaderTextSplitter\n",
        "\n",
        "headers_to_split_on = [\n",
        "    (\"##_\", \"Header 1\"),\n",
        "    (\"###_\", \"Header 2\"),\n",
        "]\n",
        "\n",
        "markdown_splitter = MarkdownHeaderTextSplitter(headers_to_split_on=headers_to_split_on)\n",
        "md_header_splits = markdown_splitter.split_text(final_text)\n",
        "md_header_splits"
      ]
    },
    {
      "cell_type": "code",
      "source": [
        "len(md_header_splits)"
      ],
      "metadata": {
        "colab": {
          "base_uri": "https://localhost:8080/"
        },
        "id": "oAQcftdOhO99",
        "outputId": "61e5ce3d-5c15-4f25-8251-94570e2caa75"
      },
      "execution_count": null,
      "outputs": [
        {
          "output_type": "execute_result",
          "data": {
            "text/plain": [
              "2"
            ]
          },
          "metadata": {},
          "execution_count": 44
        }
      ]
    },
    {
      "cell_type": "code",
      "execution_count": null,
      "metadata": {
        "id": "gqV2iXbJgQQZ",
        "colab": {
          "base_uri": "https://localhost:8080/"
        },
        "outputId": "7ef4631a-6300-4363-e238-872d5f8e6311"
      },
      "outputs": [
        {
          "output_type": "execute_result",
          "data": {
            "text/plain": [
              "2"
            ]
          },
          "metadata": {},
          "execution_count": 50
        }
      ],
      "source": [
        "file_name = '4поста'\n",
        "\n",
        "text_splitter = RecursiveCharacterTextSplitter([\"##_\"],\n",
        "    chunk_size=1024, chunk_overlap=0\n",
        ")\n",
        "# text_splitter = CharacterTextSplitter(\n",
        "#     chunk_size=1024, chunk_overlap=0\n",
        "# )\n",
        "\n",
        "# Split\n",
        "split = text_splitter.split_documents(md_header_splits)\n",
        "db = FAISS.from_documents(split, OpenAIEmbeddings())\n",
        "db.save_local(os.path.join(projects_dir, f\"db_{file_name[:35]}\"))\n",
        "\n",
        "\n",
        "splitter.split_text(final_text)\n",
        "\n",
        "len(split)"
      ]
    },
    {
      "cell_type": "code",
      "source": [
        "split"
      ],
      "metadata": {
        "colab": {
          "base_uri": "https://localhost:8080/"
        },
        "id": "KmnJTt0rhdlR",
        "outputId": "0902ff6c-331b-4284-a90a-6573a31c8ab6"
      },
      "execution_count": null,
      "outputs": [
        {
          "output_type": "execute_result",
          "data": {
            "text/plain": [
              "[Document(page_content='\\ufeff##_ Пост\\nПрошёл первый день Реалити!\\nУ нас продолжается набор на новый поток стажировок, старт 1 февраля.\\nИтак, осталось\\n✔️ 4 места со скидкой по 139.900 (скидка 10 тысяч)\\n✔️ 4 места на выкуп стоимости обучения\\n✔️ 8 мест в группы стажировки февраля\\n❗️ Если вы хотите попасть на стажировки и выкуп стоимости обучения - стоит поторопиться!\\nНапоминаю наш супер-тариф!\\nСостав тарифа:\\n⭐️ Доступ ко всему нашему контенту (десятки курсов и сотни занятий по AI)\\n⭐️ 4 проекта стажировки (12 месяцев)\\n⭐️ 12 месяцев поддержки куратора\\n⭐️ Помощь в реализации AI проекта\\n⭐️ Гарантия трудоустройства  \\nСтоимость тарифа - 219.900р\\nСтоимость тарифа по предзаказу - 149.900р\\n👉 Ещё остались места по стоимости - 139.900р\\nБронирует место только оплата!\\nAI и IT - лучшая сфера для работы 🚀\\nМы поможем вам быстро переквалифицироваться и стать разработчиком!\\nОставляйте заявку на обучение 👇', metadata={}),\n",
              " Document(page_content='Такс, у нас проблема!\\nОбычно на Реалити всего 2-3% людей не смотрели интенсив и я могу довольно свободно рассказывать тему Реалити, а не погружаться в основы нейронок.\\n❗️ Но вчера около 20-30% было совсем новичков!\\nИ вот как тут рассказывать, когда часть с полного нуля, а часть уже много знает?\\nВ общем, кто не проходил наш интенсив - обязательно надо посмотреть!\\n👉 Это самые основы, как строятся и обучаются нейронки.\\nА потом уже вам будут понятны все Реалити и остальное.\\nЧтобы не ждать следующего вторника (интенсивы по вторникам), вот они все три дня записями.\\nПосмотреть нужно хотя бы первый вебинар - это всего 2 часа.\\n👍https://youtu.be/XvdT9sTnYYk\\n👍https://youtu.be/NP9NgFSLQWE\\n👍https://youtu.be/SqYK42mWC74\\nИнтенсив крутейший! Его уже прошли больше 25.000 человек - это целый небольшой город.\\nТакс, дальше по списку\\nЕсть те, кто хочет ещё и Python понять и создание нейронок на Keras.\\nУ нас для вас по предзаказу 2 занятия по Python и 1 по основам нейронок на Keras.\\nПредзаказ тут, если что 👇\\nhttps://neural-university.ru/special_offer?utm_source=webinar&utm_medium=18012023&utm_campaign=tg  \\nМир AI очень сильно меняется из-за chatGPT и Auto ML\\nУже на этом реалити места по точностям распределились вот так:\\n⭐️ 1 место - chatGPT\\n⭐️ 2 место - наш генетический алгоритм\\n⭐️ 3 место - люди\\n❓ Что это значит для вас?\\nЧто скоро создавать нейронки станет значительно проще и надо будет не писать архитектуры с нуля, а правильно формулировать запросы к chatGPT и правильно настраивать параметры генетического алгоритма.\\nТак же, как сейчас у дизайнеров, они массово и срочно учатся пользоваться Stable diffusion и промт-инжинирингу (как сформулировать точный запрос нейронке, чтобы получить красивую картинку).\\nИсчезнут ли нейронщики? Да точно нет\\nПросто мы будете писать не на Keras прямой код, а коммуницировать с chatGPT и генетикой.\\nИ это будущее наступит уже через год максимум.\\n👨\\u200d💻 Мы уже планируем готовить для вас курс по решению AI задач на chatGPT\\nПотому что это будет самым передовым инструментом создания нейронок.\\nВсе остальные занятия курса останутся супер важными, потому что без первого создания нейронок руками вы не будете понимать, как это вообще работает.\\n👉 В общем, мир AI меняется и мы будем для вас на самой передовой волне этих изменений.\\nЖдите скоро Реалити, где мы создадим всё 100% только на chatGPT.\\n❗️ Ну а пока - пойдёмте учиться нейронкам!\\nОсталось всего пару мест на выкуп стоимости обучения и 12 мест на стажировки 1 февраля.\\nСейчас самое безумно интересное время для изучения AI.\\nЭто как время появления первых компьютеров, время битв Microsoft и Apple, и время зарождения интернета.\\nПройдёт 10 лет и так интересно уже не будет\\nТак что сейчас идеальный момент 👇', metadata={'Header 1': 'Пост'})]"
            ]
          },
          "metadata": {},
          "execution_count": 51
        }
      ]
    },
    {
      "cell_type": "code",
      "execution_count": null,
      "metadata": {
        "id": "S_3YhYPfgQQZ",
        "colab": {
          "base_uri": "https://localhost:8080/",
          "height": 177
        },
        "outputId": "b439aa89-fe71-4032-da15-3a22a8a886bd"
      },
      "outputs": [
        {
          "output_type": "error",
          "ename": "IndexError",
          "evalue": "ignored",
          "traceback": [
            "\u001b[0;31m---------------------------------------------------------------------------\u001b[0m",
            "\u001b[0;31mIndexError\u001b[0m                                Traceback (most recent call last)",
            "\u001b[0;32m<ipython-input-11-ff253b56bbe2>\u001b[0m in \u001b[0;36m<cell line: 1>\u001b[0;34m()\u001b[0m\n\u001b[0;32m----> 1\u001b[0;31m \u001b[0msplit\u001b[0m\u001b[0;34m[\u001b[0m\u001b[0;36m1\u001b[0m\u001b[0;34m]\u001b[0m\u001b[0;34m\u001b[0m\u001b[0;34m\u001b[0m\u001b[0m\n\u001b[0m",
            "\u001b[0;31mIndexError\u001b[0m: list index out of range"
          ]
        }
      ],
      "source": [
        "split[1]"
      ]
    },
    {
      "cell_type": "code",
      "execution_count": null,
      "metadata": {
        "id": "rQ4yUvHXgQQZ",
        "colab": {
          "base_uri": "https://localhost:8080/"
        },
        "outputId": "e77f04cb-386b-4d56-d2e3-770359ebe2a4"
      },
      "outputs": [
        {
          "output_type": "stream",
          "name": "stdout",
          "text": [
            "2774 токенов использовано всего (вопрос-ответ).\n",
            "ЦЕНА запроса с ответом : 0.004161  $\n",
            "===========================================: \n",
            "\n",
            "Ответ ChatGPT: \n",
            "На курсе мы рассмотрим различные типы нейросотрудников, которые могут быть полезны для различных сфер деятельности. Курс предназначен для всех, кто хочет разобраться в работе нейросотрудников, включая отдел продаж, разработчиков, маркетологов и HR-специалистов. Наш курс не требует предварительных знаний программирования, но будет полезен для тех, кто уже знаком с этой областью.\n",
            "\n",
            "Введение в курс представляет собой обзор тем, которые будут рассмотрены в дальнейшем. Оно помогает слушателям понять, что ожидать от курса и какие знания они получат. Курс предоставляет возможность быстро и эффективно овладеть основами работы с нейросотрудниками и применять их в практической деятельности.\n",
            "\n",
            "Одна из тем, которую мы рассмотрим на курсе, это \"Значение нейросотрудников\". В рамках этой темы мы изучим различные аспекты использования и внедрения нейросотрудников в современном бизнесе. Мы рассмотрим их роль в автоматизации процессов, улучшении эффективности работы и обеспечении более качественного обслуживания клиентов. Также мы изучим различные виды продакшенов и способы внедрения нейросотрудников в них. Важно отметить, что нейросотрудники играют важную роль в современных компаниях и могут быть полезны для различных отделов, включая продажи, маркетинг, разработку и управление персоналом.\n",
            "\n",
            "Другая тема, которую мы рассмотрим, это \"Применение нейросотрудников в продажах и обучении\". Мы изучим различные типы нейросотрудников, которые могут быть предложены компаниям, и способы их использования в продажах и обучении. Мы также рассмотрим вопросы, связанные с оценкой сроков проекта и подбором команды для работы с нейросотрудниками. В рамках этой темы мы также обсудим способы придумать своего нейросотрудника, если ни один из предложенных не подходит компании.\n",
            "\n",
            "Кроме того, на курсе мы рассмотрим подходящие модели для создания нейросотрудников. Мы изучим различные модели и алгоритмы, которые могут быть использованы для создания нейросотрудников. Мы также рассмотрим вопросы, связанные с созданием базы знаний, интеграцией нейросотрудников в продакшен и созданием нейрокоператоров.\n",
            "\n",
            "В заключение, наш курс предназначен для тех, кто хочет овладеть навыками работы с нейросотрудниками и применить их в своей деятельности. Мы рассмотрим различные аспекты работы с нейросотрудниками и поможем вам освоить эту новую область искусственного интеллекта.\n"
          ]
        }
      ],
      "source": [
        "topic = \"\"\"\n",
        "Каких Нейросотрудников рассмотрим на курсе?\n",
        "\"\"\"\n",
        "\n",
        "get_chatgpt_answer(topic,  db)"
      ]
    }
  ],
  "metadata": {
    "colab": {
      "provenance": [],
      "include_colab_link": true
    },
    "kernelspec": {
      "display_name": "Python 3",
      "name": "python3"
    },
    "language_info": {
      "name": "python"
    },
    "widgets": {
      "application/vnd.jupyter.widget-state+json": {
        "35240da1f786460fb4c4f1e63f310188": {
          "model_module": "@jupyter-widgets/controls",
          "model_name": "HBoxModel",
          "model_module_version": "1.5.0",
          "state": {
            "_dom_classes": [],
            "_model_module": "@jupyter-widgets/controls",
            "_model_module_version": "1.5.0",
            "_model_name": "HBoxModel",
            "_view_count": null,
            "_view_module": "@jupyter-widgets/controls",
            "_view_module_version": "1.5.0",
            "_view_name": "HBoxView",
            "box_style": "",
            "children": [
              "IPY_MODEL_8e1add4f09964803996b5f7d5833242f",
              "IPY_MODEL_a71835b9150043589d626dac9c32598f",
              "IPY_MODEL_7ba045327a364c439d0299adec67c7ef"
            ],
            "layout": "IPY_MODEL_fe9535d2094f47a9a0caabb16fa89cbd"
          }
        },
        "8e1add4f09964803996b5f7d5833242f": {
          "model_module": "@jupyter-widgets/controls",
          "model_name": "HTMLModel",
          "model_module_version": "1.5.0",
          "state": {
            "_dom_classes": [],
            "_model_module": "@jupyter-widgets/controls",
            "_model_module_version": "1.5.0",
            "_model_name": "HTMLModel",
            "_view_count": null,
            "_view_module": "@jupyter-widgets/controls",
            "_view_module_version": "1.5.0",
            "_view_name": "HTMLView",
            "description": "",
            "description_tooltip": null,
            "layout": "IPY_MODEL_c9cfb192eb634f2ebf09aed15cc0439c",
            "placeholder": "​",
            "style": "IPY_MODEL_db66555ea44b4c91ab65a00b1d9b79cd",
            "value": "100%"
          }
        },
        "a71835b9150043589d626dac9c32598f": {
          "model_module": "@jupyter-widgets/controls",
          "model_name": "FloatProgressModel",
          "model_module_version": "1.5.0",
          "state": {
            "_dom_classes": [],
            "_model_module": "@jupyter-widgets/controls",
            "_model_module_version": "1.5.0",
            "_model_name": "FloatProgressModel",
            "_view_count": null,
            "_view_module": "@jupyter-widgets/controls",
            "_view_module_version": "1.5.0",
            "_view_name": "ProgressView",
            "bar_style": "success",
            "description": "",
            "description_tooltip": null,
            "layout": "IPY_MODEL_133f192b8add4b39bc68fd1973830572",
            "max": 11,
            "min": 0,
            "orientation": "horizontal",
            "style": "IPY_MODEL_d02aa0ba731d4663a78e03983ac2626c",
            "value": 11
          }
        },
        "7ba045327a364c439d0299adec67c7ef": {
          "model_module": "@jupyter-widgets/controls",
          "model_name": "HTMLModel",
          "model_module_version": "1.5.0",
          "state": {
            "_dom_classes": [],
            "_model_module": "@jupyter-widgets/controls",
            "_model_module_version": "1.5.0",
            "_model_name": "HTMLModel",
            "_view_count": null,
            "_view_module": "@jupyter-widgets/controls",
            "_view_module_version": "1.5.0",
            "_view_name": "HTMLView",
            "description": "",
            "description_tooltip": null,
            "layout": "IPY_MODEL_ef3cc4d72eb845b6b6ec1ad4d2781b79",
            "placeholder": "​",
            "style": "IPY_MODEL_e5a4a07effc5404d80f750eac640a504",
            "value": " 11/11 [00:00&lt;00:00, 531.69it/s]"
          }
        },
        "fe9535d2094f47a9a0caabb16fa89cbd": {
          "model_module": "@jupyter-widgets/base",
          "model_name": "LayoutModel",
          "model_module_version": "1.2.0",
          "state": {
            "_model_module": "@jupyter-widgets/base",
            "_model_module_version": "1.2.0",
            "_model_name": "LayoutModel",
            "_view_count": null,
            "_view_module": "@jupyter-widgets/base",
            "_view_module_version": "1.2.0",
            "_view_name": "LayoutView",
            "align_content": null,
            "align_items": null,
            "align_self": null,
            "border": null,
            "bottom": null,
            "display": null,
            "flex": null,
            "flex_flow": null,
            "grid_area": null,
            "grid_auto_columns": null,
            "grid_auto_flow": null,
            "grid_auto_rows": null,
            "grid_column": null,
            "grid_gap": null,
            "grid_row": null,
            "grid_template_areas": null,
            "grid_template_columns": null,
            "grid_template_rows": null,
            "height": null,
            "justify_content": null,
            "justify_items": null,
            "left": null,
            "margin": null,
            "max_height": null,
            "max_width": null,
            "min_height": null,
            "min_width": null,
            "object_fit": null,
            "object_position": null,
            "order": null,
            "overflow": null,
            "overflow_x": null,
            "overflow_y": null,
            "padding": null,
            "right": null,
            "top": null,
            "visibility": null,
            "width": null
          }
        },
        "c9cfb192eb634f2ebf09aed15cc0439c": {
          "model_module": "@jupyter-widgets/base",
          "model_name": "LayoutModel",
          "model_module_version": "1.2.0",
          "state": {
            "_model_module": "@jupyter-widgets/base",
            "_model_module_version": "1.2.0",
            "_model_name": "LayoutModel",
            "_view_count": null,
            "_view_module": "@jupyter-widgets/base",
            "_view_module_version": "1.2.0",
            "_view_name": "LayoutView",
            "align_content": null,
            "align_items": null,
            "align_self": null,
            "border": null,
            "bottom": null,
            "display": null,
            "flex": null,
            "flex_flow": null,
            "grid_area": null,
            "grid_auto_columns": null,
            "grid_auto_flow": null,
            "grid_auto_rows": null,
            "grid_column": null,
            "grid_gap": null,
            "grid_row": null,
            "grid_template_areas": null,
            "grid_template_columns": null,
            "grid_template_rows": null,
            "height": null,
            "justify_content": null,
            "justify_items": null,
            "left": null,
            "margin": null,
            "max_height": null,
            "max_width": null,
            "min_height": null,
            "min_width": null,
            "object_fit": null,
            "object_position": null,
            "order": null,
            "overflow": null,
            "overflow_x": null,
            "overflow_y": null,
            "padding": null,
            "right": null,
            "top": null,
            "visibility": null,
            "width": null
          }
        },
        "db66555ea44b4c91ab65a00b1d9b79cd": {
          "model_module": "@jupyter-widgets/controls",
          "model_name": "DescriptionStyleModel",
          "model_module_version": "1.5.0",
          "state": {
            "_model_module": "@jupyter-widgets/controls",
            "_model_module_version": "1.5.0",
            "_model_name": "DescriptionStyleModel",
            "_view_count": null,
            "_view_module": "@jupyter-widgets/base",
            "_view_module_version": "1.2.0",
            "_view_name": "StyleView",
            "description_width": ""
          }
        },
        "133f192b8add4b39bc68fd1973830572": {
          "model_module": "@jupyter-widgets/base",
          "model_name": "LayoutModel",
          "model_module_version": "1.2.0",
          "state": {
            "_model_module": "@jupyter-widgets/base",
            "_model_module_version": "1.2.0",
            "_model_name": "LayoutModel",
            "_view_count": null,
            "_view_module": "@jupyter-widgets/base",
            "_view_module_version": "1.2.0",
            "_view_name": "LayoutView",
            "align_content": null,
            "align_items": null,
            "align_self": null,
            "border": null,
            "bottom": null,
            "display": null,
            "flex": null,
            "flex_flow": null,
            "grid_area": null,
            "grid_auto_columns": null,
            "grid_auto_flow": null,
            "grid_auto_rows": null,
            "grid_column": null,
            "grid_gap": null,
            "grid_row": null,
            "grid_template_areas": null,
            "grid_template_columns": null,
            "grid_template_rows": null,
            "height": null,
            "justify_content": null,
            "justify_items": null,
            "left": null,
            "margin": null,
            "max_height": null,
            "max_width": null,
            "min_height": null,
            "min_width": null,
            "object_fit": null,
            "object_position": null,
            "order": null,
            "overflow": null,
            "overflow_x": null,
            "overflow_y": null,
            "padding": null,
            "right": null,
            "top": null,
            "visibility": null,
            "width": null
          }
        },
        "d02aa0ba731d4663a78e03983ac2626c": {
          "model_module": "@jupyter-widgets/controls",
          "model_name": "ProgressStyleModel",
          "model_module_version": "1.5.0",
          "state": {
            "_model_module": "@jupyter-widgets/controls",
            "_model_module_version": "1.5.0",
            "_model_name": "ProgressStyleModel",
            "_view_count": null,
            "_view_module": "@jupyter-widgets/base",
            "_view_module_version": "1.2.0",
            "_view_name": "StyleView",
            "bar_color": null,
            "description_width": ""
          }
        },
        "ef3cc4d72eb845b6b6ec1ad4d2781b79": {
          "model_module": "@jupyter-widgets/base",
          "model_name": "LayoutModel",
          "model_module_version": "1.2.0",
          "state": {
            "_model_module": "@jupyter-widgets/base",
            "_model_module_version": "1.2.0",
            "_model_name": "LayoutModel",
            "_view_count": null,
            "_view_module": "@jupyter-widgets/base",
            "_view_module_version": "1.2.0",
            "_view_name": "LayoutView",
            "align_content": null,
            "align_items": null,
            "align_self": null,
            "border": null,
            "bottom": null,
            "display": null,
            "flex": null,
            "flex_flow": null,
            "grid_area": null,
            "grid_auto_columns": null,
            "grid_auto_flow": null,
            "grid_auto_rows": null,
            "grid_column": null,
            "grid_gap": null,
            "grid_row": null,
            "grid_template_areas": null,
            "grid_template_columns": null,
            "grid_template_rows": null,
            "height": null,
            "justify_content": null,
            "justify_items": null,
            "left": null,
            "margin": null,
            "max_height": null,
            "max_width": null,
            "min_height": null,
            "min_width": null,
            "object_fit": null,
            "object_position": null,
            "order": null,
            "overflow": null,
            "overflow_x": null,
            "overflow_y": null,
            "padding": null,
            "right": null,
            "top": null,
            "visibility": null,
            "width": null
          }
        },
        "e5a4a07effc5404d80f750eac640a504": {
          "model_module": "@jupyter-widgets/controls",
          "model_name": "DescriptionStyleModel",
          "model_module_version": "1.5.0",
          "state": {
            "_model_module": "@jupyter-widgets/controls",
            "_model_module_version": "1.5.0",
            "_model_name": "DescriptionStyleModel",
            "_view_count": null,
            "_view_module": "@jupyter-widgets/base",
            "_view_module_version": "1.2.0",
            "_view_name": "StyleView",
            "description_width": ""
          }
        },
        "e10717c3f087471d930eb9f1ff21c193": {
          "model_module": "@jupyter-widgets/controls",
          "model_name": "HBoxModel",
          "model_module_version": "1.5.0",
          "state": {
            "_dom_classes": [],
            "_model_module": "@jupyter-widgets/controls",
            "_model_module_version": "1.5.0",
            "_model_name": "HBoxModel",
            "_view_count": null,
            "_view_module": "@jupyter-widgets/controls",
            "_view_module_version": "1.5.0",
            "_view_name": "HBoxView",
            "box_style": "",
            "children": [
              "IPY_MODEL_639b51cc9fbf4857acfd24bb130f5899",
              "IPY_MODEL_dff24bc76dd94a4e9c4a6113d5f87a5c",
              "IPY_MODEL_c93769eb1bfc45668d0677b612b446a4"
            ],
            "layout": "IPY_MODEL_34350eceb212423aaae729173004e9dc"
          }
        },
        "639b51cc9fbf4857acfd24bb130f5899": {
          "model_module": "@jupyter-widgets/controls",
          "model_name": "HTMLModel",
          "model_module_version": "1.5.0",
          "state": {
            "_dom_classes": [],
            "_model_module": "@jupyter-widgets/controls",
            "_model_module_version": "1.5.0",
            "_model_name": "HTMLModel",
            "_view_count": null,
            "_view_module": "@jupyter-widgets/controls",
            "_view_module_version": "1.5.0",
            "_view_name": "HTMLView",
            "description": "",
            "description_tooltip": null,
            "layout": "IPY_MODEL_c3477981acd143b58b12df45c49a62f5",
            "placeholder": "​",
            "style": "IPY_MODEL_177b3d6a81884e76ba7e81aec08cd01f",
            "value": ""
          }
        },
        "dff24bc76dd94a4e9c4a6113d5f87a5c": {
          "model_module": "@jupyter-widgets/controls",
          "model_name": "FloatProgressModel",
          "model_module_version": "1.5.0",
          "state": {
            "_dom_classes": [],
            "_model_module": "@jupyter-widgets/controls",
            "_model_module_version": "1.5.0",
            "_model_name": "FloatProgressModel",
            "_view_count": null,
            "_view_module": "@jupyter-widgets/controls",
            "_view_module_version": "1.5.0",
            "_view_name": "ProgressView",
            "bar_style": "success",
            "description": "",
            "description_tooltip": null,
            "layout": "IPY_MODEL_797b1fca20594c69a23d5e94a01b32c3",
            "max": 1,
            "min": 0,
            "orientation": "horizontal",
            "style": "IPY_MODEL_18c76a6214e544e09bbabca5086ed7dc",
            "value": 1
          }
        },
        "c93769eb1bfc45668d0677b612b446a4": {
          "model_module": "@jupyter-widgets/controls",
          "model_name": "HTMLModel",
          "model_module_version": "1.5.0",
          "state": {
            "_dom_classes": [],
            "_model_module": "@jupyter-widgets/controls",
            "_model_module_version": "1.5.0",
            "_model_name": "HTMLModel",
            "_view_count": null,
            "_view_module": "@jupyter-widgets/controls",
            "_view_module_version": "1.5.0",
            "_view_name": "HTMLView",
            "description": "",
            "description_tooltip": null,
            "layout": "IPY_MODEL_7fa358a30b0543b9bcfa1f310c499cc9",
            "placeholder": "​",
            "style": "IPY_MODEL_d91ff6a5681e4883bf140ef2a8c52faa",
            "value": " 18/? [08:03&lt;00:00, 26.35s/it]"
          }
        },
        "34350eceb212423aaae729173004e9dc": {
          "model_module": "@jupyter-widgets/base",
          "model_name": "LayoutModel",
          "model_module_version": "1.2.0",
          "state": {
            "_model_module": "@jupyter-widgets/base",
            "_model_module_version": "1.2.0",
            "_model_name": "LayoutModel",
            "_view_count": null,
            "_view_module": "@jupyter-widgets/base",
            "_view_module_version": "1.2.0",
            "_view_name": "LayoutView",
            "align_content": null,
            "align_items": null,
            "align_self": null,
            "border": null,
            "bottom": null,
            "display": null,
            "flex": null,
            "flex_flow": null,
            "grid_area": null,
            "grid_auto_columns": null,
            "grid_auto_flow": null,
            "grid_auto_rows": null,
            "grid_column": null,
            "grid_gap": null,
            "grid_row": null,
            "grid_template_areas": null,
            "grid_template_columns": null,
            "grid_template_rows": null,
            "height": null,
            "justify_content": null,
            "justify_items": null,
            "left": null,
            "margin": null,
            "max_height": null,
            "max_width": null,
            "min_height": null,
            "min_width": null,
            "object_fit": null,
            "object_position": null,
            "order": null,
            "overflow": null,
            "overflow_x": null,
            "overflow_y": null,
            "padding": null,
            "right": null,
            "top": null,
            "visibility": null,
            "width": null
          }
        },
        "c3477981acd143b58b12df45c49a62f5": {
          "model_module": "@jupyter-widgets/base",
          "model_name": "LayoutModel",
          "model_module_version": "1.2.0",
          "state": {
            "_model_module": "@jupyter-widgets/base",
            "_model_module_version": "1.2.0",
            "_model_name": "LayoutModel",
            "_view_count": null,
            "_view_module": "@jupyter-widgets/base",
            "_view_module_version": "1.2.0",
            "_view_name": "LayoutView",
            "align_content": null,
            "align_items": null,
            "align_self": null,
            "border": null,
            "bottom": null,
            "display": null,
            "flex": null,
            "flex_flow": null,
            "grid_area": null,
            "grid_auto_columns": null,
            "grid_auto_flow": null,
            "grid_auto_rows": null,
            "grid_column": null,
            "grid_gap": null,
            "grid_row": null,
            "grid_template_areas": null,
            "grid_template_columns": null,
            "grid_template_rows": null,
            "height": null,
            "justify_content": null,
            "justify_items": null,
            "left": null,
            "margin": null,
            "max_height": null,
            "max_width": null,
            "min_height": null,
            "min_width": null,
            "object_fit": null,
            "object_position": null,
            "order": null,
            "overflow": null,
            "overflow_x": null,
            "overflow_y": null,
            "padding": null,
            "right": null,
            "top": null,
            "visibility": null,
            "width": null
          }
        },
        "177b3d6a81884e76ba7e81aec08cd01f": {
          "model_module": "@jupyter-widgets/controls",
          "model_name": "DescriptionStyleModel",
          "model_module_version": "1.5.0",
          "state": {
            "_model_module": "@jupyter-widgets/controls",
            "_model_module_version": "1.5.0",
            "_model_name": "DescriptionStyleModel",
            "_view_count": null,
            "_view_module": "@jupyter-widgets/base",
            "_view_module_version": "1.2.0",
            "_view_name": "StyleView",
            "description_width": ""
          }
        },
        "797b1fca20594c69a23d5e94a01b32c3": {
          "model_module": "@jupyter-widgets/base",
          "model_name": "LayoutModel",
          "model_module_version": "1.2.0",
          "state": {
            "_model_module": "@jupyter-widgets/base",
            "_model_module_version": "1.2.0",
            "_model_name": "LayoutModel",
            "_view_count": null,
            "_view_module": "@jupyter-widgets/base",
            "_view_module_version": "1.2.0",
            "_view_name": "LayoutView",
            "align_content": null,
            "align_items": null,
            "align_self": null,
            "border": null,
            "bottom": null,
            "display": null,
            "flex": null,
            "flex_flow": null,
            "grid_area": null,
            "grid_auto_columns": null,
            "grid_auto_flow": null,
            "grid_auto_rows": null,
            "grid_column": null,
            "grid_gap": null,
            "grid_row": null,
            "grid_template_areas": null,
            "grid_template_columns": null,
            "grid_template_rows": null,
            "height": null,
            "justify_content": null,
            "justify_items": null,
            "left": null,
            "margin": null,
            "max_height": null,
            "max_width": null,
            "min_height": null,
            "min_width": null,
            "object_fit": null,
            "object_position": null,
            "order": null,
            "overflow": null,
            "overflow_x": null,
            "overflow_y": null,
            "padding": null,
            "right": null,
            "top": null,
            "visibility": null,
            "width": "20px"
          }
        },
        "18c76a6214e544e09bbabca5086ed7dc": {
          "model_module": "@jupyter-widgets/controls",
          "model_name": "ProgressStyleModel",
          "model_module_version": "1.5.0",
          "state": {
            "_model_module": "@jupyter-widgets/controls",
            "_model_module_version": "1.5.0",
            "_model_name": "ProgressStyleModel",
            "_view_count": null,
            "_view_module": "@jupyter-widgets/base",
            "_view_module_version": "1.2.0",
            "_view_name": "StyleView",
            "bar_color": null,
            "description_width": ""
          }
        },
        "7fa358a30b0543b9bcfa1f310c499cc9": {
          "model_module": "@jupyter-widgets/base",
          "model_name": "LayoutModel",
          "model_module_version": "1.2.0",
          "state": {
            "_model_module": "@jupyter-widgets/base",
            "_model_module_version": "1.2.0",
            "_model_name": "LayoutModel",
            "_view_count": null,
            "_view_module": "@jupyter-widgets/base",
            "_view_module_version": "1.2.0",
            "_view_name": "LayoutView",
            "align_content": null,
            "align_items": null,
            "align_self": null,
            "border": null,
            "bottom": null,
            "display": null,
            "flex": null,
            "flex_flow": null,
            "grid_area": null,
            "grid_auto_columns": null,
            "grid_auto_flow": null,
            "grid_auto_rows": null,
            "grid_column": null,
            "grid_gap": null,
            "grid_row": null,
            "grid_template_areas": null,
            "grid_template_columns": null,
            "grid_template_rows": null,
            "height": null,
            "justify_content": null,
            "justify_items": null,
            "left": null,
            "margin": null,
            "max_height": null,
            "max_width": null,
            "min_height": null,
            "min_width": null,
            "object_fit": null,
            "object_position": null,
            "order": null,
            "overflow": null,
            "overflow_x": null,
            "overflow_y": null,
            "padding": null,
            "right": null,
            "top": null,
            "visibility": null,
            "width": null
          }
        },
        "d91ff6a5681e4883bf140ef2a8c52faa": {
          "model_module": "@jupyter-widgets/controls",
          "model_name": "DescriptionStyleModel",
          "model_module_version": "1.5.0",
          "state": {
            "_model_module": "@jupyter-widgets/controls",
            "_model_module_version": "1.5.0",
            "_model_name": "DescriptionStyleModel",
            "_view_count": null,
            "_view_module": "@jupyter-widgets/base",
            "_view_module_version": "1.2.0",
            "_view_name": "StyleView",
            "description_width": ""
          }
        }
      }
    }
  },
  "nbformat": 4,
  "nbformat_minor": 0
}